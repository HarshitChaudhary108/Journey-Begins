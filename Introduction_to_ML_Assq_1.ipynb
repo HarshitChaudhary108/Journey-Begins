{
 "cells": [
  {
   "cell_type": "markdown",
   "id": "bcb12dab-e63c-484f-b51c-bd0d9d8da584",
   "metadata": {},
   "source": [
    "## Q1. Explain the follwing with an example :\n",
    "## Aritificial Intelligence\n",
    "## Machine Learning\n",
    "## Deep Learning"
   ]
  },
  {
   "cell_type": "markdown",
   "id": "9db5ccb5-4aaf-4799-bb56-2315ff813a38",
   "metadata": {},
   "source": [
    "## Answer "
   ]
  },
  {
   "cell_type": "markdown",
   "id": "02215a0f-5053-4978-9438-7ea5419e4c53",
   "metadata": {},
   "source": [
    "### Artificial Intelligence \n",
    "#### Definition: Artificial Intelligence refers to the development of computer systems that can perform tasks that typically require human intelligence. These tasks include reasoning, problem-solving, learning, perception, and language understanding.\n",
    "#### Example: Imagine a smart vacuum cleaner that can navigate your home, avoid obstacles, and clean efficiently without human intervention. This is an AI application that uses sensors, algorithms, and decision-making capabilities to perform its tasks1.\n",
    "#\n",
    "### Machine Learning\n",
    "#### Definition: Machine Learning is a subset of AI that focuses on creating algorithms and models that can learn from data. Instead of being explicitly programmed, ML models improve their performance over time by learning from examples.\n",
    "#### Example: Consider a language learning app like Duolingo. It uses machine learning to adapt its lessons based on your progress, adjusting difficulty levels and personalized content to help you learn a new language effectively2.\n",
    "#\n",
    "### Deep Learning\n",
    "#### Definition: Deep Learning is a specialized form of ML that uses deep neural networks with multiple layers (hence “deep”). These networks can automatically learn hierarchical features from raw data, making them powerful for tasks like image recognition and natural language processing.\n",
    "#### Example: Image recognition is a classic deep learning application. For instance, when you upload a photo to social media, the platform can automatically identify objects, people, or places in the image using deep learning techniques3..."
   ]
  },
  {
   "cell_type": "markdown",
   "id": "b5394111-8c5d-4ad4-a2b7-a9714667709f",
   "metadata": {},
   "source": [
    "## "
   ]
  },
  {
   "cell_type": "markdown",
   "id": "4365bd31-33c9-4df5-a14c-276826edf95a",
   "metadata": {},
   "source": [
    "## Q2. What is Supervised Learning ? List some examples of supervised Learning."
   ]
  },
  {
   "cell_type": "markdown",
   "id": "d2245819-c000-4cb5-a857-333b7c8a04a0",
   "metadata": {},
   "source": [
    "## Answer "
   ]
  },
  {
   "cell_type": "markdown",
   "id": "f73ba866-458f-409f-98d3-5ded03bf2c05",
   "metadata": {},
   "source": [
    "### Supervised learning is a machine learning approach that uses labeled data sets to train algorithms. By matching inputs to corresponding outputs, models learn to predict outcomes accurately. \n",
    "### Here are some examples:\n",
    "#### Email Filtering: Supervised learning helps classify incoming emails as spam or legitimate.\n",
    "#### Credit Scoring: It predicts the creditworthiness of loan applicants.\n",
    "#### Voice Recognition: Used in virtual assistants to understand spoken commands"
   ]
  },
  {
   "cell_type": "markdown",
   "id": "646f195a-d125-457a-be9c-13609295260a",
   "metadata": {},
   "source": [
    "## "
   ]
  },
  {
   "cell_type": "markdown",
   "id": "0ed1ac23-b26d-4e0a-be2d-5e6693b1d635",
   "metadata": {},
   "source": [
    "## Q3. What is Unsupervised Learning ? List some examples of unsupervised Learning. "
   ]
  },
  {
   "cell_type": "markdown",
   "id": "d5946c81-5c9f-4767-8288-cf7643e73c1c",
   "metadata": {},
   "source": [
    "## Answer "
   ]
  },
  {
   "cell_type": "markdown",
   "id": "fa8013c2-cdef-4e58-8516-55e9f76dd9c8",
   "metadata": {},
   "source": [
    "### Unsupervised learning involves finding hidden patterns in data without human guidance. \n",
    "### Here are some examples:\n",
    "#### Clustering: Grouping similar data points (e.g., customer segmentation).\n",
    "#### Association Rules: Discovering relationships between items (e.g., market basket analysis).\n",
    "#### Dimensionality Reduction: Reducing data complexity (e.g., topic modeling in text)."
   ]
  },
  {
   "cell_type": "markdown",
   "id": "55745220-4c92-493c-a3de-3bf6b44f3f12",
   "metadata": {},
   "source": [
    "## "
   ]
  },
  {
   "cell_type": "markdown",
   "id": "992fa488-54f4-4a3d-8c27-d55b82516e3a",
   "metadata": {},
   "source": [
    "## Q4. What is the difference between AI, ML, DL & DS ?"
   ]
  },
  {
   "cell_type": "markdown",
   "id": "55df23d3-87db-44c3-8722-583182e12123",
   "metadata": {},
   "source": [
    "## Answer "
   ]
  },
  {
   "cell_type": "markdown",
   "id": "bb6e9659-4bf8-4f13-ad7e-09f288e914f7",
   "metadata": {},
   "source": [
    "### Artificial Intelligence (AI):\n",
    "#### Definition: AI encompasses a broad range of techniques, including ML and DL, to create intelligent systems.\n",
    "#### Example: Siri or Google Assistant answering your questions is AI in action. Facebook recognizing faces in photos and suggesting tags is another example. Netflix recommending shows based on what you’ve watched before uses AI to guess your preferences1.\n",
    "#\n",
    "### Machine Learning (ML):\n",
    "#### Definition: ML is a subset of AI that focuses on algorithms that learn from data.\n",
    "#### Example: Predictive analytics uses ML to forecast future events based on historical data. Spam filters in your email learn what you consider junk and help keep your inbox clean1.\n",
    "#\n",
    "### Deep Learning (DL):\n",
    "#### Definition: DL, nestled within ML, drives machines to understand and operate on a level akin to human intuition.\n",
    "#### Example: DL powers tasks like image recognition, natural language understanding, and autonomous driving. It’s like teaching a computer to recognize cats by showing it thousands of cat images1.\n",
    "#\n",
    "### Data Science (DS):\n",
    "#### Definition: DS involves extracting insights from data, often using ML techniques as part of the process.\n",
    "#### Example: Data scientists analyze complex data to make informed decisions. They might use ML algorithms to predict customer behavior or optimize supply chains"
   ]
  },
  {
   "cell_type": "markdown",
   "id": "5c85fb33-d850-4d5e-a0a2-984cd6f0c1de",
   "metadata": {},
   "source": [
    "## "
   ]
  },
  {
   "cell_type": "markdown",
   "id": "92f2f7be-3246-4912-8a05-14205628ea19",
   "metadata": {},
   "source": [
    "## Q5. What are the main differences between supervised, unsupervised and semi-supervised Learning ?\n",
    "## Answer "
   ]
  },
  {
   "cell_type": "markdown",
   "id": "8c10989e-b032-4139-b7ab-45ae33774e8e",
   "metadata": {},
   "source": [
    "### Supervised Learning:\n",
    "#### Labeled Data: Uses labeled examples for training.\n",
    "#### Purpose: Predicts outcomes or classifies data.\n",
    "#### Examples: Spam filters, credit scoring.\n",
    "#\n",
    "### Unsupervised Learning:\n",
    "#### No Labels: Analyzes unlabeled data for patterns.\n",
    "#### Tasks: Clustering, dimensionality reduction.\n",
    "#### Example: Customer segmentation.\n",
    "#\n",
    "### Semi-Supervised Learning:\n",
    "#### Mix: Combines labeled and unlabeled data.\n",
    "#### Use Case: When limited labels are available."
   ]
  },
  {
   "cell_type": "markdown",
   "id": "a1c94f54-69fc-40b9-ac78-1ecaf2ee2d57",
   "metadata": {},
   "source": [
    "## "
   ]
  },
  {
   "cell_type": "markdown",
   "id": "764677b2-7115-4386-a8ee-f5f98a773a79",
   "metadata": {},
   "source": [
    "## Q6. what is train, test and validation split ? Explain the importance of each term.\n",
    "## Answer "
   ]
  },
  {
   "cell_type": "markdown",
   "id": "7b42064d-8033-4f26-953f-0d3b83fac3bf",
   "metadata": {},
   "source": [
    "### Training Set:\n",
    "#### Purpose: Used to train the model.\n",
    "#### Data: Labeled examples (input features and corresponding outputs).\n",
    "#### Importance: Teaches the model patterns and features in the data.\n",
    "#\n",
    "### Validation Set:\n",
    "#### Purpose: Evaluates model performance during training.\n",
    "#### Data: Separate from training set, also labeled.\n",
    "#### Importance: Helps tune hyperparameters, prevents overfitting.\n",
    "#\n",
    "### Test Set:\n",
    "#### Purpose: Assesses model’s generalization to new, unseen data.\n",
    "#### Data: Remains untouched during training.\n",
    "#### Importance: Ensures unbiased evaluation and real-world readiness"
   ]
  },
  {
   "cell_type": "markdown",
   "id": "46315f4c-fbf4-4dd4-903f-c5890a7d5e95",
   "metadata": {},
   "source": [
    "## "
   ]
  },
  {
   "cell_type": "markdown",
   "id": "c112350f-b6cd-4491-8526-851a5edd4b70",
   "metadata": {},
   "source": [
    "## Q7. How can supervised learning can be used in anomaly detection ?\n",
    "## Answer "
   ]
  },
  {
   "cell_type": "markdown",
   "id": "2be51a68-ff04-414e-a393-326a88bfaeb0",
   "metadata": {},
   "source": [
    "### Anomalies are the data points that don’t fit into any group. The algorithm says, “Hey, this one doesn’t belong here!” For example, if you’re monitoring website traffic, an anomaly might be unusually high activity at 3 AM when most people are asleep.\n",
    "#### Applications:\n",
    "#### Catching credit card fraud: Unusual transactions are anomalies.\n",
    "#### Monitoring machinery: Detecting weird vibrations or temperature spikes.\n",
    "#### Identifying rare diseases: Finding patients with unusual symptoms."
   ]
  },
  {
   "cell_type": "markdown",
   "id": "7c69d151-a8e1-4863-b1fe-75cce807fc28",
   "metadata": {},
   "source": [
    "## "
   ]
  },
  {
   "cell_type": "markdown",
   "id": "9a2cc3df-6d93-403e-a445-d7abc4e5d669",
   "metadata": {},
   "source": [
    "## Q8. List down some commonly used supervised learning lagorithms and unsupervised learning algorithms.\n",
    "## Answer "
   ]
  },
  {
   "cell_type": "markdown",
   "id": "23e5d474-3391-45ce-85f6-ea3b60b05aef",
   "metadata": {},
   "source": [
    "### Supervised Learning Algorithms:\n",
    "#### Linear Regression\n",
    "#### Logistic Regression\n",
    "#### K-Nearest Neighbors (K-NN)\n",
    "#### Decision Trees\n",
    "#### Random Forests\n",
    "#\n",
    "### Unsupervised Learning Algorithms:\n",
    "#### K-Means Clustering\n",
    "#### Hierarchical Clustering\n",
    "#### Principal Component Analysis (PCA)\n",
    "#### Apriori Algorithm\n",
    "#### DBSCAN (Density-Based Spatial Clustering of Applications with Noise)"
   ]
  }
 ],
 "metadata": {
  "kernelspec": {
   "display_name": "Python 3 (ipykernel)",
   "language": "python",
   "name": "python3"
  },
  "language_info": {
   "codemirror_mode": {
    "name": "ipython",
    "version": 3
   },
   "file_extension": ".py",
   "mimetype": "text/x-python",
   "name": "python",
   "nbconvert_exporter": "python",
   "pygments_lexer": "ipython3",
   "version": "3.12.2"
  }
 },
 "nbformat": 4,
 "nbformat_minor": 5
}
