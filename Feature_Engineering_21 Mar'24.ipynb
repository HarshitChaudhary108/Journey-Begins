{
 "cells": [
  {
   "cell_type": "markdown",
   "id": "ad3f7ac8-f832-4628-8533-db553315ed99",
   "metadata": {},
   "source": [
    "## Q1. What is the difference between Ordinal Encoding and Label Encoding? Provide an example of when you might choose one over the other."
   ]
  },
  {
   "cell_type": "markdown",
   "id": "70f28364-3c31-40b2-b02e-98b4b717b6c7",
   "metadata": {},
   "source": [
    "## Answer"
   ]
  },
  {
   "cell_type": "markdown",
   "id": "4d9cb034-d418-47b0-9bc8-263405cddaa0",
   "metadata": {},
   "source": [
    "### Ordinal Encoding:\n",
    "#### OrdinalEncoder is used to encode categorical features as ordinal integers based on the order of the categories.\n",
    "#\n",
    "### Label Encoding:\n",
    "#### LabelEncoder is used to encode categorical features as unique integers without considering any order."
   ]
  },
  {
   "cell_type": "markdown",
   "id": "ded61ebf-4bcd-4179-8af3-3961460db2f4",
   "metadata": {},
   "source": [
    "# "
   ]
  },
  {
   "cell_type": "markdown",
   "id": "d06cf577-562f-4792-884f-00c78a07194c",
   "metadata": {},
   "source": [
    "## Q2. Explain how Target Guided Ordinal Encoding works and provide an example of when you might use it in a machine learning project."
   ]
  },
  {
   "cell_type": "markdown",
   "id": "522ad5b0-935a-45f1-b9f0-8da440f46c83",
   "metadata": {},
   "source": [
    "## Answer "
   ]
  },
  {
   "cell_type": "markdown",
   "id": "068b9ddf-c43d-476e-aebb-13b2ca5ac5ce",
   "metadata": {},
   "source": [
    "### Target Guided Ordinal Encoding is a technique used to encode categorical features based on their relationship with a target variable.\n",
    "### For each category in the categorical feature, calculate the average value of the target variable (e.g., salary, sales, etc.) for that category.\n",
    "### Assign an ordinal rank to each category based on these average target values.\n",
    "### Replace the original category labels with their corresponding ranks.\n",
    "#### Example --------------------------------"
   ]
  },
  {
   "cell_type": "raw",
   "id": "55901db7-fd27-49fd-9427-7fd6a1590ac0",
   "metadata": {},
   "source": [
    "Employee Id | City     | Highest Qualification | Salary\n",
    "--------------------------------------------------------\n",
    "A100        | Delhi    | Phd                   | 50000\n",
    "A101        | Delhi    | Bsc                   | 30000\n",
    "A102        | Mumbai   | Msc                   | 45000\n",
    "B101        | Pune     | Bsc                   | 25000\n",
    "B102        | Kolkata  | Phd                   | 48000\n",
    "C100        | Pune     | Msc                   | 30000\n",
    "D103        | Kolkata  | Msc                   | 44000"
   ]
  },
  {
   "cell_type": "markdown",
   "id": "a681a3e9-c575-42e3-bc56-002cfdcbf624",
   "metadata": {},
   "source": [
    "### Calculate the mean salary for each city: Kolkata > Mumbai > Delhi > Pune.\n",
    "### Assign ranks: Kolkata (4) > Mumbai (3) > Delhi (2) > Pune (1)."
   ]
  },
  {
   "cell_type": "raw",
   "id": "6bdcfed8-3be0-4e25-b7e4-32d47bb78074",
   "metadata": {},
   "source": [
    "Employee Id | City Rank | Highest Qualification | Salary\n",
    "--------------------------------------------------------\n",
    "A100        | 2         | Phd                   | 50000\n",
    "A101        | 2         | Bsc                   | 30000\n",
    "A102        | 3         | Msc                   | 45000\n",
    "B101        | 1         | Bsc                   | 25000\n",
    "B102        | 4         | Phd                   | 48000\n",
    "C100        | 1         | Msc                   | 30000\n",
    "D103        | 4         | Msc                   | 44000"
   ]
  },
  {
   "cell_type": "markdown",
   "id": "b9a71a22-6d0c-44fd-961b-7376bc4a5486",
   "metadata": {},
   "source": [
    "## "
   ]
  },
  {
   "cell_type": "markdown",
   "id": "3f2b0aa1-d088-4c92-9955-0952ebf884b5",
   "metadata": {},
   "source": [
    "## Q3. Define covariance and explain why it is important in statistical analysis. How is covariance calculated?"
   ]
  },
  {
   "cell_type": "markdown",
   "id": "cd965656-51e9-43e7-91be-29fdbf2f4ec5",
   "metadata": {},
   "source": [
    "## Answer "
   ]
  },
  {
   "cell_type": "markdown",
   "id": "2b4c52c3-3633-4e8f-9ba0-22417378a271",
   "metadata": {},
   "source": [
    "### Covariance measures the extent to which two variables vary linearly. In other words, it reveals whether two variables move in the same or opposite directions.\n",
    "### Importance:\n",
    "#### Covariance helps us understand how two variables are related. It indicates whether they tend to move together or in opposite directions.\n",
    "#### By studying covariance, we gain insights into the interdependencies between variables, allowing informed interpretations and predictions.\n",
    "### The sign of the covariance indicates the direction of the relationship:\n",
    "#### Positive covariance: Variables tend to move in the same direction.\n",
    "#### Negative covariance: Variables move in opposite directions"
   ]
  },
  {
   "cell_type": "markdown",
   "id": "cf01ad86-ba04-47bc-815e-d6f8f00962aa",
   "metadata": {},
   "source": [
    "## "
   ]
  },
  {
   "cell_type": "markdown",
   "id": "e5d71269-0f6e-49c3-b1de-d7f6edbfc1a7",
   "metadata": {},
   "source": [
    "## Q4. For a dataset with the following categorical variables: Color (red, green, blue), Size (small, medium, large), and Material (wood, metal, plastic), perform label encoding using Python's scikit-learn library. Show your code and explain the output."
   ]
  },
  {
   "cell_type": "markdown",
   "id": "e31266c4-3214-4c30-9a8b-b6647d81bda7",
   "metadata": {},
   "source": [
    "## Answer "
   ]
  },
  {
   "cell_type": "code",
   "execution_count": 8,
   "id": "26396e3b-158a-4cae-9f83-42778c50ec86",
   "metadata": {},
   "outputs": [],
   "source": [
    "import pandas as pd\n",
    "from sklearn.preprocessing import LabelEncoder\n",
    "\n",
    "# Create a sample DataFrame\n",
    "df = pd.DataFrame({\n",
    "    'Color': ['red', 'green', 'blue', 'green', 'red'],\n",
    "    'Size': ['small', 'medium', 'large', 'small', 'medium'],\n",
    "    'Material': ['wood', 'metal', 'plastic', 'metal', 'wood']\n",
    "})\n"
   ]
  },
  {
   "cell_type": "code",
   "execution_count": 9,
   "id": "13f07740-6d24-433d-b0d2-ca55d2399777",
   "metadata": {},
   "outputs": [
    {
     "data": {
      "text/html": [
       "<div>\n",
       "<style scoped>\n",
       "    .dataframe tbody tr th:only-of-type {\n",
       "        vertical-align: middle;\n",
       "    }\n",
       "\n",
       "    .dataframe tbody tr th {\n",
       "        vertical-align: top;\n",
       "    }\n",
       "\n",
       "    .dataframe thead th {\n",
       "        text-align: right;\n",
       "    }\n",
       "</style>\n",
       "<table border=\"1\" class=\"dataframe\">\n",
       "  <thead>\n",
       "    <tr style=\"text-align: right;\">\n",
       "      <th></th>\n",
       "      <th>Color</th>\n",
       "      <th>Size</th>\n",
       "      <th>Material</th>\n",
       "    </tr>\n",
       "  </thead>\n",
       "  <tbody>\n",
       "    <tr>\n",
       "      <th>0</th>\n",
       "      <td>red</td>\n",
       "      <td>small</td>\n",
       "      <td>wood</td>\n",
       "    </tr>\n",
       "    <tr>\n",
       "      <th>1</th>\n",
       "      <td>green</td>\n",
       "      <td>medium</td>\n",
       "      <td>metal</td>\n",
       "    </tr>\n",
       "    <tr>\n",
       "      <th>2</th>\n",
       "      <td>blue</td>\n",
       "      <td>large</td>\n",
       "      <td>plastic</td>\n",
       "    </tr>\n",
       "    <tr>\n",
       "      <th>3</th>\n",
       "      <td>green</td>\n",
       "      <td>small</td>\n",
       "      <td>metal</td>\n",
       "    </tr>\n",
       "    <tr>\n",
       "      <th>4</th>\n",
       "      <td>red</td>\n",
       "      <td>medium</td>\n",
       "      <td>wood</td>\n",
       "    </tr>\n",
       "  </tbody>\n",
       "</table>\n",
       "</div>"
      ],
      "text/plain": [
       "   Color    Size Material\n",
       "0    red   small     wood\n",
       "1  green  medium    metal\n",
       "2   blue   large  plastic\n",
       "3  green   small    metal\n",
       "4    red  medium     wood"
      ]
     },
     "execution_count": 9,
     "metadata": {},
     "output_type": "execute_result"
    }
   ],
   "source": [
    "df"
   ]
  },
  {
   "cell_type": "code",
   "execution_count": 10,
   "id": "57953e55-3534-4a25-bba3-fee8c3e7c425",
   "metadata": {},
   "outputs": [],
   "source": [
    "encoder = LabelEncoder()"
   ]
  },
  {
   "cell_type": "code",
   "execution_count": 15,
   "id": "3acee54e-3058-4272-a8d9-6feae8bf6103",
   "metadata": {},
   "outputs": [
    {
     "name": "stderr",
     "output_type": "stream",
     "text": [
      "C:\\Users\\theha\\AppData\\Local\\Programs\\Python\\Python312\\Lib\\site-packages\\sklearn\\preprocessing\\_label.py:114: DataConversionWarning: A column-vector y was passed when a 1d array was expected. Please change the shape of y to (n_samples, ), for example using ravel().\n",
      "  y = column_or_1d(y, warn=True)\n",
      "C:\\Users\\theha\\AppData\\Local\\Programs\\Python\\Python312\\Lib\\site-packages\\sklearn\\preprocessing\\_label.py:114: DataConversionWarning: A column-vector y was passed when a 1d array was expected. Please change the shape of y to (n_samples, ), for example using ravel().\n",
      "  y = column_or_1d(y, warn=True)\n",
      "C:\\Users\\theha\\AppData\\Local\\Programs\\Python\\Python312\\Lib\\site-packages\\sklearn\\preprocessing\\_label.py:114: DataConversionWarning: A column-vector y was passed when a 1d array was expected. Please change the shape of y to (n_samples, ), for example using ravel().\n",
      "  y = column_or_1d(y, warn=True)\n"
     ]
    }
   ],
   "source": [
    "df[\"Color_Encoded\"] = encoder.fit_transform(df[[\"Color\"]])\n",
    "df[\"Size_Encoded\"] = encoder.fit_transform(df[[\"Size\"]])\n",
    "df[\"Material_Encoded\"] = encoder.fit_transform(df[[\"Material\"]])"
   ]
  },
  {
   "cell_type": "code",
   "execution_count": 16,
   "id": "90bd3e34-bfd2-4e20-a0a0-72a6ee0dc1d7",
   "metadata": {},
   "outputs": [
    {
     "data": {
      "text/html": [
       "<div>\n",
       "<style scoped>\n",
       "    .dataframe tbody tr th:only-of-type {\n",
       "        vertical-align: middle;\n",
       "    }\n",
       "\n",
       "    .dataframe tbody tr th {\n",
       "        vertical-align: top;\n",
       "    }\n",
       "\n",
       "    .dataframe thead th {\n",
       "        text-align: right;\n",
       "    }\n",
       "</style>\n",
       "<table border=\"1\" class=\"dataframe\">\n",
       "  <thead>\n",
       "    <tr style=\"text-align: right;\">\n",
       "      <th></th>\n",
       "      <th>Color</th>\n",
       "      <th>Size</th>\n",
       "      <th>Material</th>\n",
       "      <th>Color_Encoded</th>\n",
       "      <th>Size_Encoded</th>\n",
       "      <th>Material_Encoded</th>\n",
       "    </tr>\n",
       "  </thead>\n",
       "  <tbody>\n",
       "    <tr>\n",
       "      <th>0</th>\n",
       "      <td>red</td>\n",
       "      <td>small</td>\n",
       "      <td>wood</td>\n",
       "      <td>2</td>\n",
       "      <td>2</td>\n",
       "      <td>2</td>\n",
       "    </tr>\n",
       "    <tr>\n",
       "      <th>1</th>\n",
       "      <td>green</td>\n",
       "      <td>medium</td>\n",
       "      <td>metal</td>\n",
       "      <td>1</td>\n",
       "      <td>1</td>\n",
       "      <td>0</td>\n",
       "    </tr>\n",
       "    <tr>\n",
       "      <th>2</th>\n",
       "      <td>blue</td>\n",
       "      <td>large</td>\n",
       "      <td>plastic</td>\n",
       "      <td>0</td>\n",
       "      <td>0</td>\n",
       "      <td>1</td>\n",
       "    </tr>\n",
       "    <tr>\n",
       "      <th>3</th>\n",
       "      <td>green</td>\n",
       "      <td>small</td>\n",
       "      <td>metal</td>\n",
       "      <td>1</td>\n",
       "      <td>2</td>\n",
       "      <td>0</td>\n",
       "    </tr>\n",
       "    <tr>\n",
       "      <th>4</th>\n",
       "      <td>red</td>\n",
       "      <td>medium</td>\n",
       "      <td>wood</td>\n",
       "      <td>2</td>\n",
       "      <td>1</td>\n",
       "      <td>2</td>\n",
       "    </tr>\n",
       "  </tbody>\n",
       "</table>\n",
       "</div>"
      ],
      "text/plain": [
       "   Color    Size Material  Color_Encoded  Size_Encoded  Material_Encoded\n",
       "0    red   small     wood              2             2                 2\n",
       "1  green  medium    metal              1             1                 0\n",
       "2   blue   large  plastic              0             0                 1\n",
       "3  green   small    metal              1             2                 0\n",
       "4    red  medium     wood              2             1                 2"
      ]
     },
     "execution_count": 16,
     "metadata": {},
     "output_type": "execute_result"
    }
   ],
   "source": [
    "df"
   ]
  },
  {
   "cell_type": "markdown",
   "id": "7242e56a-8a6d-45dc-9da3-bde0896daedf",
   "metadata": {},
   "source": [
    "## Explanation :\n",
    "### The Mapping is done in alphabetic order on the basis of first letter of the input in column."
   ]
  },
  {
   "cell_type": "markdown",
   "id": "658dd3f3-7033-4f72-985b-91bda01c2902",
   "metadata": {},
   "source": [
    "## "
   ]
  },
  {
   "cell_type": "markdown",
   "id": "32ee3d3e-8ddb-4b0f-8043-a5859409f700",
   "metadata": {},
   "source": [
    "## Q6. You are working on a machine learning project with a dataset containing several categorical variables, including \"Gender\" (Male/Female), \"Education Level\" (High School/Bachelor's/Master's/PhD), and \"Employment Status\" (Unemployed/Part-Time/Full-Time). Which encoding method would you use for each variable, and why ?"
   ]
  },
  {
   "cell_type": "markdown",
   "id": "6a9895fc-f50d-4c94-b8c1-3843f0575b76",
   "metadata": {},
   "source": [
    "## Answer "
   ]
  },
  {
   "cell_type": "markdown",
   "id": "91a32fa7-7cfe-4af4-8d8b-c9d2ddc673a3",
   "metadata": {},
   "source": [
    "### Gender:\n",
    "#### For the “Gender” variable, you can use one hot encoding. This method creates a binary vector for each category (Male and Female). It assigns a 1 to the corresponding category and 0 to others.\n",
    "#### Example:\n",
    "#### Male: [1, 0]\n",
    "#### Female: [0, 1]\n",
    "#\n",
    "### Education Level:\n",
    "#### For the “Education Level” variable, consider using ordinal encoding. Ordinal encoding assigns a unique integer to each category based on their order (e.g., High School = 1, Bachelor’s = 2, Master’s = 3, PhD = 4). \n",
    "#### Example:\n",
    "#### High School: 1\n",
    "#### Bachelor’s: 2\n",
    "#### Master’s: 3\n",
    "#### PhD: 4\n",
    "#\n",
    "### Employment Status:\n",
    "#### For the “Employment Status” variable, you can also use one hot encoding. Since employment status categories (Unemployed, Part-Time, Full-Time) are mutually exclusive, one hot encoding is appropriate.\n",
    "#### Example:\n",
    "#### Unemployed: [1, 0, 0]\n",
    "#### Part-Time: [0, 1, 0]\n",
    "#### Full-Time: [0, 0, 1]"
   ]
  },
  {
   "cell_type": "markdown",
   "id": "ecd9321d-39f7-4f35-825e-a90c0ac4739e",
   "metadata": {},
   "source": [
    "## "
   ]
  },
  {
   "cell_type": "markdown",
   "id": "e76322bf-666c-4a15-b2dc-4dbb7f44c4b0",
   "metadata": {},
   "source": [
    "## Q7. You are analyzing a dataset with two continuous variables, \"Temperature\" and \"Humidity\", and two categorical variables, \"Weather Condition\" (Sunny/Cloudy/Rainy) and \"Wind Direction\" (North/South/East/West). Calculate the covariance between each pair of variables and interpret the results"
   ]
  },
  {
   "cell_type": "markdown",
   "id": "04b4054d-5a09-4fc8-9dae-93bab54f14fe",
   "metadata": {},
   "source": [
    "## Answer "
   ]
  },
  {
   "cell_type": "code",
   "execution_count": 25,
   "id": "eebcfdd8-4f71-4b3d-992e-7db97fc8ec12",
   "metadata": {},
   "outputs": [],
   "source": [
    "df = pd.DataFrame({\n",
    "    \"temperature\" : [25.5, 24.0, 26.8, 23.2, 27.1, 25.9],\n",
    "    \"Humidity\" : [60, 58, 62, 55, 63, 59]\n",
    "})\n"
   ]
  },
  {
   "cell_type": "code",
   "execution_count": 26,
   "id": "6f294372-c195-4868-9b18-36c078c81f4d",
   "metadata": {},
   "outputs": [
    {
     "data": {
      "text/html": [
       "<div>\n",
       "<style scoped>\n",
       "    .dataframe tbody tr th:only-of-type {\n",
       "        vertical-align: middle;\n",
       "    }\n",
       "\n",
       "    .dataframe tbody tr th {\n",
       "        vertical-align: top;\n",
       "    }\n",
       "\n",
       "    .dataframe thead th {\n",
       "        text-align: right;\n",
       "    }\n",
       "</style>\n",
       "<table border=\"1\" class=\"dataframe\">\n",
       "  <thead>\n",
       "    <tr style=\"text-align: right;\">\n",
       "      <th></th>\n",
       "      <th>temperature</th>\n",
       "      <th>Humidity</th>\n",
       "    </tr>\n",
       "  </thead>\n",
       "  <tbody>\n",
       "    <tr>\n",
       "      <th>temperature</th>\n",
       "      <td>2.381667</td>\n",
       "      <td>4.25</td>\n",
       "    </tr>\n",
       "    <tr>\n",
       "      <th>Humidity</th>\n",
       "      <td>4.250000</td>\n",
       "      <td>8.30</td>\n",
       "    </tr>\n",
       "  </tbody>\n",
       "</table>\n",
       "</div>"
      ],
      "text/plain": [
       "             temperature  Humidity\n",
       "temperature     2.381667      4.25\n",
       "Humidity        4.250000      8.30"
      ]
     },
     "execution_count": 26,
     "metadata": {},
     "output_type": "execute_result"
    }
   ],
   "source": [
    "df.cov()"
   ]
  },
  {
   "cell_type": "markdown",
   "id": "088fc06c-adee-49c2-bffd-e9da91c00504",
   "metadata": {},
   "source": [
    "## Temperature and Humidity are positive correlate to each other."
   ]
  },
  {
   "cell_type": "code",
   "execution_count": 27,
   "id": "85739b6b-f25e-4e4a-9efb-9b2efaf9265e",
   "metadata": {},
   "outputs": [],
   "source": [
    "df1 = pd.DataFrame({\n",
    "    \"Weather Condition\" : [\"sunny\",\"cloudy\", \"rainy\", \"sunny\",\"cloudy\", \"rainy\", \"sunny\",\"cloudy\"],\n",
    "    \"Humidity\" : [\"North\", \"South\", \"East\", \"West\",\"North\", \"South\", \"East\", \"West\"]\n",
    "})"
   ]
  },
  {
   "cell_type": "code",
   "execution_count": 28,
   "id": "18153ad3-8f2a-4c67-8c56-520a5bcf45dc",
   "metadata": {},
   "outputs": [],
   "source": [
    "from sklearn.preprocessing import LabelEncoder"
   ]
  },
  {
   "cell_type": "code",
   "execution_count": 34,
   "id": "e29ba3c7-c67d-49ab-8e23-d1b52e56ed0e",
   "metadata": {},
   "outputs": [
    {
     "name": "stderr",
     "output_type": "stream",
     "text": [
      "C:\\Users\\theha\\AppData\\Local\\Programs\\Python\\Python312\\Lib\\site-packages\\sklearn\\preprocessing\\_label.py:114: DataConversionWarning: A column-vector y was passed when a 1d array was expected. Please change the shape of y to (n_samples, ), for example using ravel().\n",
      "  y = column_or_1d(y, warn=True)\n",
      "C:\\Users\\theha\\AppData\\Local\\Programs\\Python\\Python312\\Lib\\site-packages\\sklearn\\preprocessing\\_label.py:114: DataConversionWarning: A column-vector y was passed when a 1d array was expected. Please change the shape of y to (n_samples, ), for example using ravel().\n",
      "  y = column_or_1d(y, warn=True)\n"
     ]
    }
   ],
   "source": [
    "encoder = LabelEncoder()\n",
    "df2[\"Weather Condition_encoded\"] = encoder.fit_transform(df1[[\"Weather Condition\"]])\n",
    "df2[\"Humidity_encoded\"] = encoder.fit_transform(df1[[\"Humidity\"]])"
   ]
  },
  {
   "cell_type": "code",
   "execution_count": 33,
   "id": "cf8bb448-69b3-4406-946b-62151802992f",
   "metadata": {},
   "outputs": [],
   "source": [
    "df2 = pd.DataFrame({\n",
    "})"
   ]
  },
  {
   "cell_type": "code",
   "execution_count": 36,
   "id": "8dde91a7-5431-468c-b8a0-c6a651375651",
   "metadata": {},
   "outputs": [
    {
     "data": {
      "text/html": [
       "<div>\n",
       "<style scoped>\n",
       "    .dataframe tbody tr th:only-of-type {\n",
       "        vertical-align: middle;\n",
       "    }\n",
       "\n",
       "    .dataframe tbody tr th {\n",
       "        vertical-align: top;\n",
       "    }\n",
       "\n",
       "    .dataframe thead th {\n",
       "        text-align: right;\n",
       "    }\n",
       "</style>\n",
       "<table border=\"1\" class=\"dataframe\">\n",
       "  <thead>\n",
       "    <tr style=\"text-align: right;\">\n",
       "      <th></th>\n",
       "      <th>Weather Condition_encoded</th>\n",
       "      <th>Humidity_encoded</th>\n",
       "    </tr>\n",
       "  </thead>\n",
       "  <tbody>\n",
       "    <tr>\n",
       "      <th>0</th>\n",
       "      <td>2</td>\n",
       "      <td>1</td>\n",
       "    </tr>\n",
       "    <tr>\n",
       "      <th>1</th>\n",
       "      <td>0</td>\n",
       "      <td>2</td>\n",
       "    </tr>\n",
       "    <tr>\n",
       "      <th>2</th>\n",
       "      <td>1</td>\n",
       "      <td>0</td>\n",
       "    </tr>\n",
       "    <tr>\n",
       "      <th>3</th>\n",
       "      <td>2</td>\n",
       "      <td>3</td>\n",
       "    </tr>\n",
       "    <tr>\n",
       "      <th>4</th>\n",
       "      <td>0</td>\n",
       "      <td>1</td>\n",
       "    </tr>\n",
       "    <tr>\n",
       "      <th>5</th>\n",
       "      <td>1</td>\n",
       "      <td>2</td>\n",
       "    </tr>\n",
       "    <tr>\n",
       "      <th>6</th>\n",
       "      <td>2</td>\n",
       "      <td>0</td>\n",
       "    </tr>\n",
       "    <tr>\n",
       "      <th>7</th>\n",
       "      <td>0</td>\n",
       "      <td>3</td>\n",
       "    </tr>\n",
       "  </tbody>\n",
       "</table>\n",
       "</div>"
      ],
      "text/plain": [
       "   Weather Condition_encoded  Humidity_encoded\n",
       "0                          2                 1\n",
       "1                          0                 2\n",
       "2                          1                 0\n",
       "3                          2                 3\n",
       "4                          0                 1\n",
       "5                          1                 2\n",
       "6                          2                 0\n",
       "7                          0                 3"
      ]
     },
     "execution_count": 36,
     "metadata": {},
     "output_type": "execute_result"
    }
   ],
   "source": [
    "df2"
   ]
  },
  {
   "cell_type": "code",
   "execution_count": 37,
   "id": "f0073082-56b6-4e3b-ab34-8df19b699e74",
   "metadata": {},
   "outputs": [
    {
     "data": {
      "text/html": [
       "<div>\n",
       "<style scoped>\n",
       "    .dataframe tbody tr th:only-of-type {\n",
       "        vertical-align: middle;\n",
       "    }\n",
       "\n",
       "    .dataframe tbody tr th {\n",
       "        vertical-align: top;\n",
       "    }\n",
       "\n",
       "    .dataframe thead th {\n",
       "        text-align: right;\n",
       "    }\n",
       "</style>\n",
       "<table border=\"1\" class=\"dataframe\">\n",
       "  <thead>\n",
       "    <tr style=\"text-align: right;\">\n",
       "      <th></th>\n",
       "      <th>Weather Condition_encoded</th>\n",
       "      <th>Humidity_encoded</th>\n",
       "    </tr>\n",
       "  </thead>\n",
       "  <tbody>\n",
       "    <tr>\n",
       "      <th>Weather Condition_encoded</th>\n",
       "      <td>0.857143</td>\n",
       "      <td>-0.285714</td>\n",
       "    </tr>\n",
       "    <tr>\n",
       "      <th>Humidity_encoded</th>\n",
       "      <td>-0.285714</td>\n",
       "      <td>1.428571</td>\n",
       "    </tr>\n",
       "  </tbody>\n",
       "</table>\n",
       "</div>"
      ],
      "text/plain": [
       "                           Weather Condition_encoded  Humidity_encoded\n",
       "Weather Condition_encoded                   0.857143         -0.285714\n",
       "Humidity_encoded                           -0.285714          1.428571"
      ]
     },
     "execution_count": 37,
     "metadata": {},
     "output_type": "execute_result"
    }
   ],
   "source": [
    "df2.cov()"
   ]
  },
  {
   "cell_type": "markdown",
   "id": "e4b26cf6-b9f1-4875-8598-ff4a2da71eab",
   "metadata": {},
   "source": [
    "## From the given dataset we can find that, Humidity and Weather Condition are negatively correlate with each other."
   ]
  }
 ],
 "metadata": {
  "kernelspec": {
   "display_name": "Python 3 (ipykernel)",
   "language": "python",
   "name": "python3"
  },
  "language_info": {
   "codemirror_mode": {
    "name": "ipython",
    "version": 3
   },
   "file_extension": ".py",
   "mimetype": "text/x-python",
   "name": "python",
   "nbconvert_exporter": "python",
   "pygments_lexer": "ipython3",
   "version": "3.12.2"
  }
 },
 "nbformat": 4,
 "nbformat_minor": 5
}
