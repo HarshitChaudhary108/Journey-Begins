{
 "cells": [
  {
   "cell_type": "markdown",
   "id": "f47151c3-6422-4372-ac07-22a66c8e0d22",
   "metadata": {},
   "source": [
    "## Q1. What is Min-Max scaling, and how is it used in data preprocessing? Provide an example to illustrate its application."
   ]
  },
  {
   "cell_type": "markdown",
   "id": "44324e1c-5598-41bf-9dd2-9a20c8d31001",
   "metadata": {},
   "source": [
    "## Answer "
   ]
  },
  {
   "cell_type": "markdown",
   "id": "9f52f93d-40d9-4cf7-a621-95ba7a10c9a1",
   "metadata": {},
   "source": [
    "### Min Max scaling, also known as normalization, uses to scale down the data in our dataset between 0 to 1. It enhances the accuracy of our ML model."
   ]
  },
  {
   "cell_type": "markdown",
   "id": "c094b3c1-a95b-45d2-94ed-8ac8affbea40",
   "metadata": {},
   "source": [
    "## HOW TO USE :"
   ]
  },
  {
   "cell_type": "code",
   "execution_count": 1,
   "id": "7f4e5ae7-8077-48eb-88eb-34157cef866a",
   "metadata": {},
   "outputs": [],
   "source": [
    "### 1st step\n",
    "from sklearn.preprocessing import MinMaxScaler\n",
    "\n",
    "## 2nd Step\n",
    "encoder = MinMaxScaler() # create an instance\n",
    "\n",
    "## Give the input column\n",
    "encoder.fit_transform([[\"The column you want to scale down\"]])"
   ]
  },
  {
   "cell_type": "markdown",
   "id": "2d4a6bee-ee94-4383-8264-3e0f4a6831c6",
   "metadata": {},
   "source": [
    "## Example "
   ]
  },
  {
   "cell_type": "code",
   "execution_count": 7,
   "id": "8791b306-5f93-411f-848e-89aea67e46cf",
   "metadata": {},
   "outputs": [
    {
     "data": {
      "text/html": [
       "<div>\n",
       "<style scoped>\n",
       "    .dataframe tbody tr th:only-of-type {\n",
       "        vertical-align: middle;\n",
       "    }\n",
       "\n",
       "    .dataframe tbody tr th {\n",
       "        vertical-align: top;\n",
       "    }\n",
       "\n",
       "    .dataframe thead th {\n",
       "        text-align: right;\n",
       "    }\n",
       "</style>\n",
       "<table border=\"1\" class=\"dataframe\">\n",
       "  <thead>\n",
       "    <tr style=\"text-align: right;\">\n",
       "      <th></th>\n",
       "      <th>total_bill</th>\n",
       "      <th>tip</th>\n",
       "      <th>sex</th>\n",
       "      <th>smoker</th>\n",
       "      <th>day</th>\n",
       "      <th>time</th>\n",
       "      <th>size</th>\n",
       "    </tr>\n",
       "  </thead>\n",
       "  <tbody>\n",
       "    <tr>\n",
       "      <th>0</th>\n",
       "      <td>16.99</td>\n",
       "      <td>1.01</td>\n",
       "      <td>Female</td>\n",
       "      <td>No</td>\n",
       "      <td>Sun</td>\n",
       "      <td>Dinner</td>\n",
       "      <td>2</td>\n",
       "    </tr>\n",
       "    <tr>\n",
       "      <th>1</th>\n",
       "      <td>10.34</td>\n",
       "      <td>1.66</td>\n",
       "      <td>Male</td>\n",
       "      <td>No</td>\n",
       "      <td>Sun</td>\n",
       "      <td>Dinner</td>\n",
       "      <td>3</td>\n",
       "    </tr>\n",
       "    <tr>\n",
       "      <th>2</th>\n",
       "      <td>21.01</td>\n",
       "      <td>3.50</td>\n",
       "      <td>Male</td>\n",
       "      <td>No</td>\n",
       "      <td>Sun</td>\n",
       "      <td>Dinner</td>\n",
       "      <td>3</td>\n",
       "    </tr>\n",
       "    <tr>\n",
       "      <th>3</th>\n",
       "      <td>23.68</td>\n",
       "      <td>3.31</td>\n",
       "      <td>Male</td>\n",
       "      <td>No</td>\n",
       "      <td>Sun</td>\n",
       "      <td>Dinner</td>\n",
       "      <td>2</td>\n",
       "    </tr>\n",
       "    <tr>\n",
       "      <th>4</th>\n",
       "      <td>24.59</td>\n",
       "      <td>3.61</td>\n",
       "      <td>Female</td>\n",
       "      <td>No</td>\n",
       "      <td>Sun</td>\n",
       "      <td>Dinner</td>\n",
       "      <td>4</td>\n",
       "    </tr>\n",
       "  </tbody>\n",
       "</table>\n",
       "</div>"
      ],
      "text/plain": [
       "   total_bill   tip     sex smoker  day    time  size\n",
       "0       16.99  1.01  Female     No  Sun  Dinner     2\n",
       "1       10.34  1.66    Male     No  Sun  Dinner     3\n",
       "2       21.01  3.50    Male     No  Sun  Dinner     3\n",
       "3       23.68  3.31    Male     No  Sun  Dinner     2\n",
       "4       24.59  3.61  Female     No  Sun  Dinner     4"
      ]
     },
     "execution_count": 7,
     "metadata": {},
     "output_type": "execute_result"
    }
   ],
   "source": [
    "import seaborn as sns\n",
    "df = sns.load_dataset(\"tips\")\n",
    "df.head()"
   ]
  },
  {
   "cell_type": "markdown",
   "id": "96c46fcf-4708-477a-ab53-642e8409fe47",
   "metadata": {},
   "source": [
    "## Lets normalize the total_bill column"
   ]
  },
  {
   "cell_type": "code",
   "execution_count": 10,
   "id": "dff31817-ace6-40f3-b25f-b6981b94046d",
   "metadata": {},
   "outputs": [],
   "source": [
    "from sklearn.preprocessing import MinMaxScaler\n",
    "encoder = MinMaxScaler() # create an instance\n",
    "encoded = encoder.fit_transform(df[[\"total_bill\"]])"
   ]
  },
  {
   "cell_type": "code",
   "execution_count": 13,
   "id": "5c6c17ba-3a4e-48b4-b5be-6d1fc5ceb4e0",
   "metadata": {
    "scrolled": true
   },
   "outputs": [
    {
     "data": {
      "text/plain": [
       "list[array([[0.29157939],\n",
       "       [0.1522832 ],\n",
       "       [0.3757855 ],\n",
       "       [0.43171345],\n",
       "       [0.45077503],\n",
       "       [0.46543779],\n",
       "       [0.11939673],\n",
       "       [0.49874319],\n",
       "       [0.25073314],\n",
       "       [0.24528697],\n",
       "       [0.15081693],\n",
       "       [0.67427734],\n",
       "       [0.25869292],\n",
       "       [0.32174277],\n",
       "       [0.24633431],\n",
       "       [0.38772518],\n",
       "       [0.15207373],\n",
       "       [0.27691663],\n",
       "       [0.29116045],\n",
       "       [0.36824466],\n",
       "       [0.31105991],\n",
       "       [0.36070381],\n",
       "       [0.2660243 ],\n",
       "       [0.761416  ],\n",
       "       [0.35085882],\n",
       "       [0.30875576],\n",
       "       [0.21575199],\n",
       "       [0.20150817],\n",
       "       [0.39023879],\n",
       "       [0.34729786],\n",
       "       [0.13573523],\n",
       "       [0.32006703],\n",
       "       [0.25115207],\n",
       "       [0.36908253],\n",
       "       [0.30812736],\n",
       "       [0.43967323],\n",
       "       [0.27733557],\n",
       "       [0.29032258],\n",
       "       [0.32718894],\n",
       "       [0.59069962],\n",
       "       [0.27167993],\n",
       "       [0.30142438],\n",
       "       [0.22769166],\n",
       "       [0.13845832],\n",
       "       [0.57247591],\n",
       "       [0.31881022],\n",
       "       [0.40134059],\n",
       "       [0.6143695 ],\n",
       "       [0.53372434],\n",
       "       [0.31357352],\n",
       "       [0.19836615],\n",
       "       [0.15123586],\n",
       "       [0.66485128],\n",
       "       [0.14390448],\n",
       "       [0.47109342],\n",
       "       [0.34394638],\n",
       "       [0.73188102],\n",
       "       [0.4888982 ],\n",
       "       [0.17113532],\n",
       "       [0.94679514],\n",
       "       [0.36070381],\n",
       "       [0.22496858],\n",
       "       [0.16652702],\n",
       "       [0.31881022],\n",
       "       [0.30414747],\n",
       "       [0.35630499],\n",
       "       [0.28026812],\n",
       "       [0.        ],\n",
       "       [0.359447  ],\n",
       "       [0.25010473],\n",
       "       [0.18747382],\n",
       "       [0.29325513],\n",
       "       [0.49832426],\n",
       "       [0.46522832],\n",
       "       [0.24423963],\n",
       "       [0.15584416],\n",
       "       [0.31105991],\n",
       "       [0.50544617],\n",
       "       [0.4124424 ],\n",
       "       [0.29786343],\n",
       "       [0.34289904],\n",
       "       [0.28466695],\n",
       "       [0.14662757],\n",
       "       [0.6202346 ],\n",
       "       [0.27042313],\n",
       "       [0.66527021],\n",
       "       [0.20863008],\n",
       "       [0.31860075],\n",
       "       [0.45328865],\n",
       "       [0.37892752],\n",
       "       [0.54252199],\n",
       "       [0.40678676],\n",
       "       [0.05613741],\n",
       "       [0.27754504],\n",
       "       [0.41223293],\n",
       "       [0.7771261 ],\n",
       "       [0.50712191],\n",
       "       [0.18768328],\n",
       "       [0.3757855 ],\n",
       "       [0.19669041],\n",
       "       [0.17343946],\n",
       "       [0.25785505],\n",
       "       [0.86363636],\n",
       "       [0.40532049],\n",
       "       [0.37390029],\n",
       "       [0.25743611],\n",
       "       [0.36489317],\n",
       "       [0.46376204],\n",
       "       [0.31776288],\n",
       "       [0.23544198],\n",
       "       [0.22894847],\n",
       "       [0.0875576 ],\n",
       "       [0.73313783],\n",
       "       [0.43736908],\n",
       "       [0.47423544],\n",
       "       [0.29828236],\n",
       "       [0.56263092],\n",
       "       [0.15877671],\n",
       "       [0.196062  ],\n",
       "       [0.44009217],\n",
       "       [0.18056137],\n",
       "       [0.21679933],\n",
       "       [0.23439464],\n",
       "       [0.26979472],\n",
       "       [0.19710934],\n",
       "       [0.55990783],\n",
       "       [0.11416003],\n",
       "       [0.2398408 ],\n",
       "       [0.17406787],\n",
       "       [0.4136992 ],\n",
       "       [0.33535819],\n",
       "       [0.36028488],\n",
       "       [0.16966904],\n",
       "       [0.19250105],\n",
       "       [0.31818182],\n",
       "       [0.11395057],\n",
       "       [0.15207373],\n",
       "       [0.23209049],\n",
       "       [0.27084206],\n",
       "       [0.21135316],\n",
       "       [0.30163385],\n",
       "       [0.65416841],\n",
       "       [0.79849183],\n",
       "       [0.50230415],\n",
       "       [0.27984918],\n",
       "       [0.11059908],\n",
       "       [0.3261416 ],\n",
       "       [0.1843318 ],\n",
       "       [0.140553  ],\n",
       "       [0.09300377],\n",
       "       [0.23041475],\n",
       "       [0.21072476],\n",
       "       [0.29723502],\n",
       "       [0.44993716],\n",
       "       [0.34981148],\n",
       "       [0.56095517],\n",
       "       [0.94470046],\n",
       "       [0.45936322],\n",
       "       [0.21617093],\n",
       "       [0.28110599],\n",
       "       [0.38604943],\n",
       "       [0.20087977],\n",
       "       [0.27524089],\n",
       "       [0.22496858],\n",
       "       [0.30247172],\n",
       "       [0.44930876],\n",
       "       [0.37054881],\n",
       "       [0.59991621],\n",
       "       [0.1575199 ],\n",
       "       [0.15835777],\n",
       "       [1.        ],\n",
       "       [0.26686217],\n",
       "       [0.0875576 ],\n",
       "       [0.60284876],\n",
       "       [0.28801843],\n",
       "       [0.6248429 ],\n",
       "       [0.3104315 ],\n",
       "       [0.23900293],\n",
       "       [0.13678257],\n",
       "       [0.66108085],\n",
       "       [0.66149979],\n",
       "       [0.42438207],\n",
       "       [0.8856305 ],\n",
       "       [0.42103058],\n",
       "       [0.78508588],\n",
       "       [0.36908253],\n",
       "       [0.37348136],\n",
       "       [0.57373272],\n",
       "       [0.31587767],\n",
       "       [0.41956431],\n",
       "       [0.26434855],\n",
       "       [0.35064935],\n",
       "       [0.53142019],\n",
       "       [0.25994973],\n",
       "       [0.2829912 ],\n",
       "       [0.09405111],\n",
       "       [0.1522832 ],\n",
       "       [0.83870968],\n",
       "       [0.20800168],\n",
       "       [0.21868454],\n",
       "       [0.32760788],\n",
       "       [0.20255551],\n",
       "       [0.20800168],\n",
       "       [0.27922078],\n",
       "       [0.36573104],\n",
       "       [0.28068705],\n",
       "       [0.49266862],\n",
       "       [0.74696271],\n",
       "       [0.44407206],\n",
       "       [0.20297444],\n",
       "       [0.565354  ],\n",
       "       [0.47800587],\n",
       "       [0.94805195],\n",
       "       [0.21365731],\n",
       "       [0.52576456],\n",
       "       [0.205907  ],\n",
       "       [0.52534562],\n",
       "       [0.17846669],\n",
       "       [0.09782153],\n",
       "       [0.56702974],\n",
       "       [0.19040637],\n",
       "       [0.21679933],\n",
       "       [0.11541684],\n",
       "       [0.27042313],\n",
       "       [0.21679933],\n",
       "       [0.2764977 ],\n",
       "       [0.1470465 ],\n",
       "       [0.3640553 ],\n",
       "       [0.21386678],\n",
       "       [0.39903645],\n",
       "       [0.43862589],\n",
       "       [0.26434855],\n",
       "       [0.17888563],\n",
       "       [0.16129032],\n",
       "       [0.26099707],\n",
       "       [0.14662757],\n",
       "       [0.19962296],\n",
       "       [0.62337662],\n",
       "       [0.68621701],\n",
       "       [0.5437788 ],\n",
       "       [0.50502723],\n",
       "       [0.41055718],\n",
       "       [0.30896523],\n",
       "       [0.32907415]])]"
      ]
     },
     "execution_count": 13,
     "metadata": {},
     "output_type": "execute_result"
    }
   ],
   "source": [
    "list[encoded]"
   ]
  },
  {
   "cell_type": "markdown",
   "id": "48a6711a-1214-4cb6-b3ea-74fc84ca4807",
   "metadata": {},
   "source": [
    "## "
   ]
  },
  {
   "cell_type": "markdown",
   "id": "59dd3135-70a4-4789-b7aa-746b9b169d63",
   "metadata": {},
   "source": [
    "## Q2. What is the Unit Vector technique in feature scaling, and how does it differ from Min-Max scaling? Provide an example to illustrate its application"
   ]
  },
  {
   "cell_type": "markdown",
   "id": "c87ed32a-5d7e-49fd-a30b-10d29abe029e",
   "metadata": {},
   "source": [
    "## Answer "
   ]
  },
  {
   "cell_type": "markdown",
   "id": "bc9aeb07-53f5-4b2c-835b-ec14cb49f3d6",
   "metadata": {},
   "source": [
    "## Unit Vector\n",
    "### This technique scales down the feature vectore to the unit norm (length of 1)\n",
    "### Formula : ( x/x_bar; y/y_bar )\n",
    "### Purpose : the purpose of Unit vectore to ensure the vector points in the same direction but have same length 1. This is used in algorithms mainly rely on the direction of data points like cosine similarity.\n"
   ]
  },
  {
   "cell_type": "markdown",
   "id": "88b53006-1606-4d56-ab9d-4ba72e51a0da",
   "metadata": {},
   "source": [
    "## Normaliztion \n",
    "### This technique scales down the feature values to the range [0,1] or [-1,1].\n",
    "### Formula : x - x(min)  /  x(max) - x(min)\n",
    "### Purpose : The purpose of normalization is to ensure that all features in the dataset are on the same scale."
   ]
  },
  {
   "cell_type": "markdown",
   "id": "263a3d1c-7881-4589-9c73-63ac2c0232ae",
   "metadata": {},
   "source": [
    "## "
   ]
  },
  {
   "cell_type": "markdown",
   "id": "e5b53971-3374-4f6a-8f3c-423f5a751595",
   "metadata": {},
   "source": [
    "## Q3. What is PCA (Principle Component Analysis), and how is it used in dimensionality reduction? Provide an example to illustrate its application."
   ]
  },
  {
   "cell_type": "markdown",
   "id": "84f0f21a-ca9f-48e7-8e4f-189d817e4cda",
   "metadata": {},
   "source": [
    "## Answer "
   ]
  },
  {
   "cell_type": "markdown",
   "id": "5771df58-e500-47cb-9bc9-19fdf319b304",
   "metadata": {},
   "source": [
    "### PCA (Principle Component Analysis) is used for dimensionality reduction. It transforms the data set with many features into a dataset with new features called principle components, with retaining most of the original information.\n",
    "### PCA simply converts 2D into 1D, means it places the data points containing the data of 2 different features in one line/faeture."
   ]
  },
  {
   "cell_type": "code",
   "execution_count": 15,
   "id": "171ce341-b6fa-4a8f-8e7d-96620f1f4925",
   "metadata": {},
   "outputs": [],
   "source": [
    "from sklearn.decomposition import PCA"
   ]
  },
  {
   "cell_type": "code",
   "execution_count": 16,
   "id": "15467621-2d31-4f20-95ec-c16e767c24e4",
   "metadata": {},
   "outputs": [],
   "source": [
    "instance = PCA()"
   ]
  },
  {
   "cell_type": "code",
   "execution_count": 17,
   "id": "558c1813-b3ea-406b-b896-1cefd920fe73",
   "metadata": {
    "scrolled": true
   },
   "outputs": [
    {
     "data": {
      "text/plain": [
       "array([[-2.79594262e+00],\n",
       "       [-9.44594262e+00],\n",
       "       [ 1.22405738e+00],\n",
       "       [ 3.89405738e+00],\n",
       "       [ 4.80405738e+00],\n",
       "       [ 5.50405738e+00],\n",
       "       [-1.10159426e+01],\n",
       "       [ 7.09405738e+00],\n",
       "       [-4.74594262e+00],\n",
       "       [-5.00594262e+00],\n",
       "       [-9.51594262e+00],\n",
       "       [ 1.54740574e+01],\n",
       "       [-4.36594262e+00],\n",
       "       [-1.35594262e+00],\n",
       "       [-4.95594262e+00],\n",
       "       [ 1.79405738e+00],\n",
       "       [-9.45594262e+00],\n",
       "       [-3.49594262e+00],\n",
       "       [-2.81594262e+00],\n",
       "       [ 8.64057377e-01],\n",
       "       [-1.86594262e+00],\n",
       "       [ 5.04057377e-01],\n",
       "       [-4.01594262e+00],\n",
       "       [ 1.96340574e+01],\n",
       "       [ 3.40573770e-02],\n",
       "       [-1.97594262e+00],\n",
       "       [-6.41594262e+00],\n",
       "       [-7.09594262e+00],\n",
       "       [ 1.91405738e+00],\n",
       "       [-1.35942623e-01],\n",
       "       [-1.02359426e+01],\n",
       "       [-1.43594262e+00],\n",
       "       [-4.72594262e+00],\n",
       "       [ 9.04057377e-01],\n",
       "       [-2.00594262e+00],\n",
       "       [ 4.27405738e+00],\n",
       "       [-3.47594262e+00],\n",
       "       [-2.85594262e+00],\n",
       "       [-1.09594262e+00],\n",
       "       [ 1.14840574e+01],\n",
       "       [-3.74594262e+00],\n",
       "       [-2.32594262e+00],\n",
       "       [-5.84594262e+00],\n",
       "       [-1.01059426e+01],\n",
       "       [ 1.06140574e+01],\n",
       "       [-1.49594262e+00],\n",
       "       [ 2.44405738e+00],\n",
       "       [ 1.26140574e+01],\n",
       "       [ 8.76405738e+00],\n",
       "       [-1.74594262e+00],\n",
       "       [-7.24594262e+00],\n",
       "       [-9.49594262e+00],\n",
       "       [ 1.50240574e+01],\n",
       "       [-9.84594262e+00],\n",
       "       [ 5.77405738e+00],\n",
       "       [-2.95942623e-01],\n",
       "       [ 1.82240574e+01],\n",
       "       [ 6.62405738e+00],\n",
       "       [-8.54594262e+00],\n",
       "       [ 2.84840574e+01],\n",
       "       [ 5.04057377e-01],\n",
       "       [-5.97594262e+00],\n",
       "       [-8.76594262e+00],\n",
       "       [-1.49594262e+00],\n",
       "       [-2.19594262e+00],\n",
       "       [ 2.94057377e-01],\n",
       "       [-3.33594262e+00],\n",
       "       [-1.67159426e+01],\n",
       "       [ 4.44057377e-01],\n",
       "       [-4.77594262e+00],\n",
       "       [-7.76594262e+00],\n",
       "       [-2.71594262e+00],\n",
       "       [ 7.07405738e+00],\n",
       "       [ 5.49405738e+00],\n",
       "       [-5.05594262e+00],\n",
       "       [-9.27594262e+00],\n",
       "       [-1.86594262e+00],\n",
       "       [ 7.41405738e+00],\n",
       "       [ 2.97405738e+00],\n",
       "       [-2.49594262e+00],\n",
       "       [-3.45942623e-01],\n",
       "       [-3.12594262e+00],\n",
       "       [-9.71594262e+00],\n",
       "       [ 1.28940574e+01],\n",
       "       [-3.80594262e+00],\n",
       "       [ 1.50440574e+01],\n",
       "       [-6.75594262e+00],\n",
       "       [-1.50594262e+00],\n",
       "       [ 4.92405738e+00],\n",
       "       [ 1.37405738e+00],\n",
       "       [ 9.18405738e+00],\n",
       "       [ 2.70405738e+00],\n",
       "       [-1.40359426e+01],\n",
       "       [-3.46594262e+00],\n",
       "       [ 2.96405738e+00],\n",
       "       [ 2.03840574e+01],\n",
       "       [ 7.49405738e+00],\n",
       "       [-7.75594262e+00],\n",
       "       [ 1.22405738e+00],\n",
       "       [-7.32594262e+00],\n",
       "       [-8.43594262e+00],\n",
       "       [-4.40594262e+00],\n",
       "       [ 2.45140574e+01],\n",
       "       [ 2.63405738e+00],\n",
       "       [ 1.13405738e+00],\n",
       "       [-4.42594262e+00],\n",
       "       [ 7.04057377e-01],\n",
       "       [ 5.42405738e+00],\n",
       "       [-1.54594262e+00],\n",
       "       [-5.47594262e+00],\n",
       "       [-5.78594262e+00],\n",
       "       [-1.25359426e+01],\n",
       "       [ 1.82840574e+01],\n",
       "       [ 4.16405738e+00],\n",
       "       [ 5.92405738e+00],\n",
       "       [-2.47594262e+00],\n",
       "       [ 1.01440574e+01],\n",
       "       [-9.13594262e+00],\n",
       "       [-7.35594262e+00],\n",
       "       [ 4.29405738e+00],\n",
       "       [-8.09594262e+00],\n",
       "       [-6.36594262e+00],\n",
       "       [-5.52594262e+00],\n",
       "       [-3.83594262e+00],\n",
       "       [-7.30594262e+00],\n",
       "       [ 1.00140574e+01],\n",
       "       [-1.12659426e+01],\n",
       "       [-5.26594262e+00],\n",
       "       [-8.40594262e+00],\n",
       "       [ 3.03405738e+00],\n",
       "       [-7.05942623e-01],\n",
       "       [ 4.84057377e-01],\n",
       "       [-8.61594262e+00],\n",
       "       [-7.52594262e+00],\n",
       "       [-1.52594262e+00],\n",
       "       [-1.12759426e+01],\n",
       "       [-9.45594262e+00],\n",
       "       [-5.63594262e+00],\n",
       "       [-3.78594262e+00],\n",
       "       [-6.62594262e+00],\n",
       "       [-2.31594262e+00],\n",
       "       [ 1.45140574e+01],\n",
       "       [ 2.14040574e+01],\n",
       "       [ 7.26405738e+00],\n",
       "       [-3.35594262e+00],\n",
       "       [-1.14359426e+01],\n",
       "       [-1.14594262e+00],\n",
       "       [-7.91594262e+00],\n",
       "       [-1.00059426e+01],\n",
       "       [-1.22759426e+01],\n",
       "       [-5.71594262e+00],\n",
       "       [-6.65594262e+00],\n",
       "       [-2.52594262e+00],\n",
       "       [ 4.76405738e+00],\n",
       "       [-1.59426230e-02],\n",
       "       [ 1.00640574e+01],\n",
       "       [ 2.83840574e+01],\n",
       "       [ 5.21405738e+00],\n",
       "       [-6.39594262e+00],\n",
       "       [-3.29594262e+00],\n",
       "       [ 1.71405738e+00],\n",
       "       [-7.12594262e+00],\n",
       "       [-3.57594262e+00],\n",
       "       [-5.97594262e+00],\n",
       "       [-2.27594262e+00],\n",
       "       [ 4.73405738e+00],\n",
       "       [ 9.74057377e-01],\n",
       "       [ 1.19240574e+01],\n",
       "       [-9.19594262e+00],\n",
       "       [-9.15594262e+00],\n",
       "       [ 3.10240574e+01],\n",
       "       [-3.97594262e+00],\n",
       "       [-1.25359426e+01],\n",
       "       [ 1.20640574e+01],\n",
       "       [-2.96594262e+00],\n",
       "       [ 1.31140574e+01],\n",
       "       [-1.89594262e+00],\n",
       "       [-5.30594262e+00],\n",
       "       [-1.01859426e+01],\n",
       "       [ 1.48440574e+01],\n",
       "       [ 1.48640574e+01],\n",
       "       [ 3.54405738e+00],\n",
       "       [ 2.55640574e+01],\n",
       "       [ 3.38405738e+00],\n",
       "       [ 2.07640574e+01],\n",
       "       [ 9.04057377e-01],\n",
       "       [ 1.11405738e+00],\n",
       "       [ 1.06740574e+01],\n",
       "       [-1.63594262e+00],\n",
       "       [ 3.31405738e+00],\n",
       "       [-4.09594262e+00],\n",
       "       [ 2.40573770e-02],\n",
       "       [ 8.65405738e+00],\n",
       "       [-4.30594262e+00],\n",
       "       [-3.20594262e+00],\n",
       "       [-1.22259426e+01],\n",
       "       [-9.44594262e+00],\n",
       "       [ 2.33240574e+01],\n",
       "       [-6.78594262e+00],\n",
       "       [-6.27594262e+00],\n",
       "       [-1.07594262e+00],\n",
       "       [-7.04594262e+00],\n",
       "       [-6.78594262e+00],\n",
       "       [-3.38594262e+00],\n",
       "       [ 7.44057377e-01],\n",
       "       [-3.31594262e+00],\n",
       "       [ 6.80405738e+00],\n",
       "       [ 1.89440574e+01],\n",
       "       [ 4.48405738e+00],\n",
       "       [-7.02594262e+00],\n",
       "       [ 1.02740574e+01],\n",
       "       [ 6.10405738e+00],\n",
       "       [ 2.85440574e+01],\n",
       "       [-6.51594262e+00],\n",
       "       [ 8.38405738e+00],\n",
       "       [-6.88594262e+00],\n",
       "       [ 8.36405738e+00],\n",
       "       [-8.19594262e+00],\n",
       "       [-1.20459426e+01],\n",
       "       [ 1.03540574e+01],\n",
       "       [-7.62594262e+00],\n",
       "       [-6.36594262e+00],\n",
       "       [-1.12059426e+01],\n",
       "       [-3.80594262e+00],\n",
       "       [-6.36594262e+00],\n",
       "       [-3.51594262e+00],\n",
       "       [-9.69594262e+00],\n",
       "       [ 6.64057377e-01],\n",
       "       [-6.50594262e+00],\n",
       "       [ 2.33405738e+00],\n",
       "       [ 4.22405738e+00],\n",
       "       [-4.09594262e+00],\n",
       "       [-8.17594262e+00],\n",
       "       [-9.01594262e+00],\n",
       "       [-4.25594262e+00],\n",
       "       [-9.71594262e+00],\n",
       "       [-7.18594262e+00],\n",
       "       [ 1.30440574e+01],\n",
       "       [ 1.60440574e+01],\n",
       "       [ 9.24405738e+00],\n",
       "       [ 7.39405738e+00],\n",
       "       [ 2.88405738e+00],\n",
       "       [-1.96594262e+00],\n",
       "       [-1.00594262e+00]])"
      ]
     },
     "execution_count": 17,
     "metadata": {},
     "output_type": "execute_result"
    }
   ],
   "source": [
    "instance.fit_transform(df[[\"total_bill\"]], df[[\"tip\"]])"
   ]
  },
  {
   "cell_type": "markdown",
   "id": "31386c52-7b53-44fd-a93e-0c250caa393e",
   "metadata": {},
   "source": [
    "## "
   ]
  },
  {
   "cell_type": "markdown",
   "id": "24e3cbfc-cb89-421c-b733-ec1cc53a7421",
   "metadata": {},
   "source": [
    "## Q4. What is the relationship between PCA and Feature Extraction, and how can PCA be used for Feature Extraction? Provide an example to illustrate this concept."
   ]
  },
  {
   "cell_type": "markdown",
   "id": "02992b84-4a22-4aeb-be15-5a65aecebb50",
   "metadata": {},
   "source": [
    "## Answer\n",
    "## Relationship Between PCA and Feature Extraction\n",
    "### Feature Extraction: This process involves creating new features from the original ones to better represent the data. PCA achieves this by identifying the directions (principal components) in which the data varies the most.\n",
    "### Dimensionality Reduction: PCA reduces the number of features while retaining the essential information. This helps in simplifying models, reducing computation time, and avoiding overfitting."
   ]
  },
  {
   "cell_type": "markdown",
   "id": "5eb23f99-f1be-4cf2-ad21-4e0ed28cd96f",
   "metadata": {},
   "source": [
    "## Application\n",
    "### In image processing, PCA can be used to reduce the number of pixels while preserving the essential features of the image. For example, in facial recognition, PCA can extract the most significant features of faces, making the recognition process faster and more efficient."
   ]
  },
  {
   "cell_type": "markdown",
   "id": "f6babe1f-e3ea-4451-bcd9-0ddfdc6a400b",
   "metadata": {},
   "source": [
    "## "
   ]
  },
  {
   "cell_type": "markdown",
   "id": "d77197f2-55d2-439d-9d5e-6b7cdad505cb",
   "metadata": {},
   "source": [
    "## Q5. You are working on a project to build a recommendation system for a food delivery service. The dataset contains features such as price, rating, and delivery time. Explain how you would use Min-Max scaling to preprocess the data."
   ]
  },
  {
   "cell_type": "markdown",
   "id": "cdff3c94-dd34-4d68-9bae-22702467eb48",
   "metadata": {},
   "source": [
    "## Answer "
   ]
  },
  {
   "cell_type": "code",
   "execution_count": 22,
   "id": "89f7cb45-cb9e-437f-a8c3-e36c5ccaa303",
   "metadata": {},
   "outputs": [],
   "source": [
    "import pandas as pd\n",
    "df = pd.DataFrame({\n",
    "    \"price\" : [100,200,180,160,90],\n",
    "    \"rating\" : [2,1,5,3,7],\n",
    "    \"delivery time\" : [30,40,17,19,25]\n",
    "})"
   ]
  },
  {
   "cell_type": "code",
   "execution_count": 25,
   "id": "b24edad3-5f11-4c52-9802-e4c9fd05718f",
   "metadata": {},
   "outputs": [],
   "source": [
    "from sklearn.preprocessing import MinMaxScaler\n",
    "encoder = MinMaxScaler()\n",
    "encoded = encoder.fit_transform(df[[\"price\", \"rating\", \"delivery time\"]])"
   ]
  },
  {
   "cell_type": "code",
   "execution_count": 28,
   "id": "aec6923a-4910-4d18-b7bc-0ab5c88ab4cd",
   "metadata": {},
   "outputs": [
    {
     "data": {
      "text/html": [
       "<div>\n",
       "<style scoped>\n",
       "    .dataframe tbody tr th:only-of-type {\n",
       "        vertical-align: middle;\n",
       "    }\n",
       "\n",
       "    .dataframe tbody tr th {\n",
       "        vertical-align: top;\n",
       "    }\n",
       "\n",
       "    .dataframe thead th {\n",
       "        text-align: right;\n",
       "    }\n",
       "</style>\n",
       "<table border=\"1\" class=\"dataframe\">\n",
       "  <thead>\n",
       "    <tr style=\"text-align: right;\">\n",
       "      <th></th>\n",
       "      <th>price</th>\n",
       "      <th>rating</th>\n",
       "      <th>delivery item</th>\n",
       "    </tr>\n",
       "  </thead>\n",
       "  <tbody>\n",
       "    <tr>\n",
       "      <th>0</th>\n",
       "      <td>0.090909</td>\n",
       "      <td>0.166667</td>\n",
       "      <td>0.565217</td>\n",
       "    </tr>\n",
       "    <tr>\n",
       "      <th>1</th>\n",
       "      <td>1.000000</td>\n",
       "      <td>0.000000</td>\n",
       "      <td>1.000000</td>\n",
       "    </tr>\n",
       "    <tr>\n",
       "      <th>2</th>\n",
       "      <td>0.818182</td>\n",
       "      <td>0.666667</td>\n",
       "      <td>0.000000</td>\n",
       "    </tr>\n",
       "    <tr>\n",
       "      <th>3</th>\n",
       "      <td>0.636364</td>\n",
       "      <td>0.333333</td>\n",
       "      <td>0.086957</td>\n",
       "    </tr>\n",
       "    <tr>\n",
       "      <th>4</th>\n",
       "      <td>0.000000</td>\n",
       "      <td>1.000000</td>\n",
       "      <td>0.347826</td>\n",
       "    </tr>\n",
       "  </tbody>\n",
       "</table>\n",
       "</div>"
      ],
      "text/plain": [
       "      price    rating  delivery item\n",
       "0  0.090909  0.166667       0.565217\n",
       "1  1.000000  0.000000       1.000000\n",
       "2  0.818182  0.666667       0.000000\n",
       "3  0.636364  0.333333       0.086957\n",
       "4  0.000000  1.000000       0.347826"
      ]
     },
     "execution_count": 28,
     "metadata": {},
     "output_type": "execute_result"
    }
   ],
   "source": [
    "pd.DataFrame(encoded, columns=[\"price\", \"rating\", \"delivery item\"])"
   ]
  },
  {
   "cell_type": "markdown",
   "id": "2c4246bb-2c45-4724-9a09-5f8e8b89cae9",
   "metadata": {},
   "source": [
    "## "
   ]
  },
  {
   "cell_type": "markdown",
   "id": "fc630d0c-fd57-4af3-8332-5e8423fe9dd2",
   "metadata": {},
   "source": [
    "## Q6. You are working on a project to build a model to predict stock prices. The dataset contains many features, such as company financial data and market trends. Explain how you would use PCA to reduce the dimensionality of the dataset."
   ]
  },
  {
   "cell_type": "markdown",
   "id": "a1137c6e-aaf9-4ff9-a5a8-ed4dc6c0aa19",
   "metadata": {},
   "source": [
    "## Answer "
   ]
  },
  {
   "cell_type": "code",
   "execution_count": 32,
   "id": "d770a01d-aa5c-4595-bd20-5253725da2a6",
   "metadata": {},
   "outputs": [],
   "source": [
    "import yfinance as yf\n",
    "import pandas as pd\n",
    "from sklearn.decomposition import PCA\n",
    "from sklearn.preprocessing import StandardScaler\n",
    "import matplotlib.pyplot as plt"
   ]
  },
  {
   "cell_type": "code",
   "execution_count": 33,
   "id": "951f7515-3642-4e36-bb4f-03d9237c27e9",
   "metadata": {},
   "outputs": [
    {
     "name": "stderr",
     "output_type": "stream",
     "text": [
      "[*********************100%%**********************]  5 of 5 completed\n",
      "\n",
      "1 Failed download:\n",
      "['FB']: YFTzMissingError('$%ticker%: possibly delisted; No timezone found')\n",
      "C:\\Users\\theha\\AppData\\Local\\Temp\\ipykernel_15932\\341010159.py:6: FutureWarning: DataFrame.fillna with 'method' is deprecated and will raise in a future version. Use obj.ffill() or obj.bfill() instead.\n",
      "  data.fillna(method='ffill', inplace=True)\n"
     ]
    }
   ],
   "source": [
    "# Fetch data for multiple stocks\n",
    "tickers = ['AAPL', 'MSFT', 'GOOGL', 'AMZN', 'FB']\n",
    "data = yf.download(tickers, start='2020-01-01', end='2023-01-01')['Adj Close']\n",
    "\n",
    "# Fill missing values\n",
    "data.fillna(method='ffill', inplace=True)\n"
   ]
  },
  {
   "cell_type": "code",
   "execution_count": 41,
   "id": "8dbeef9d-8d35-4a66-9402-99e00124bb93",
   "metadata": {},
   "outputs": [],
   "source": [
    "data1 = data[[\"AAPL\", \"AMZN\", \"GOOGL\"]].head()"
   ]
  },
  {
   "cell_type": "code",
   "execution_count": 42,
   "id": "1606f8ec-6c3a-409b-b4d3-098952bd8783",
   "metadata": {},
   "outputs": [],
   "source": [
    "scaler = StandardScaler()\n",
    "scaled_data = scaler.fit_transform(data1)"
   ]
  },
  {
   "cell_type": "code",
   "execution_count": 43,
   "id": "dec83cb6-52e3-4616-a164-812fba5da360",
   "metadata": {},
   "outputs": [
    {
     "data": {
      "text/plain": [
       "array([[ 0.26303194,  0.27538678, -0.98413115],\n",
       "       [-1.21960044, -1.79004143, -1.39979658],\n",
       "       [-0.01624335,  0.7119589 ,  0.70698065],\n",
       "       [-0.73218828,  1.06875634,  0.55023922],\n",
       "       [ 1.70500013, -0.26606058,  1.12670785]])"
      ]
     },
     "execution_count": 43,
     "metadata": {},
     "output_type": "execute_result"
    }
   ],
   "source": [
    "scaled_data"
   ]
  },
  {
   "cell_type": "code",
   "execution_count": 48,
   "id": "c08e60cb-a03c-4d14-87ab-e8d69c3ded71",
   "metadata": {},
   "outputs": [],
   "source": [
    "pca = PCA(n_components=2)\n",
    "PC = pca.fit_transform(scaled_data)\n"
   ]
  },
  {
   "cell_type": "code",
   "execution_count": 49,
   "id": "94e436a4-ee24-4e0e-886a-0bde7a0ed62a",
   "metadata": {},
   "outputs": [],
   "source": [
    "## Creating a dataset with principle components\n",
    "pca_df = pd.DataFrame(data=PC, columns=['PC1', 'PC2'])"
   ]
  },
  {
   "cell_type": "code",
   "execution_count": 50,
   "id": "f03369ef-3c36-47dd-a9dd-46dc74917de5",
   "metadata": {},
   "outputs": [
    {
     "data": {
      "text/html": [
       "<div>\n",
       "<style scoped>\n",
       "    .dataframe tbody tr th:only-of-type {\n",
       "        vertical-align: middle;\n",
       "    }\n",
       "\n",
       "    .dataframe tbody tr th {\n",
       "        vertical-align: top;\n",
       "    }\n",
       "\n",
       "    .dataframe thead th {\n",
       "        text-align: right;\n",
       "    }\n",
       "</style>\n",
       "<table border=\"1\" class=\"dataframe\">\n",
       "  <thead>\n",
       "    <tr style=\"text-align: right;\">\n",
       "      <th></th>\n",
       "      <th>PC1</th>\n",
       "      <th>PC2</th>\n",
       "    </tr>\n",
       "  </thead>\n",
       "  <tbody>\n",
       "    <tr>\n",
       "      <th>0</th>\n",
       "      <td>0.368705</td>\n",
       "      <td>0.002690</td>\n",
       "    </tr>\n",
       "    <tr>\n",
       "      <th>1</th>\n",
       "      <td>2.523050</td>\n",
       "      <td>0.383670</td>\n",
       "    </tr>\n",
       "    <tr>\n",
       "      <th>2</th>\n",
       "      <td>-0.840246</td>\n",
       "      <td>-0.512775</td>\n",
       "    </tr>\n",
       "    <tr>\n",
       "      <th>3</th>\n",
       "      <td>-0.550683</td>\n",
       "      <td>-1.273644</td>\n",
       "    </tr>\n",
       "    <tr>\n",
       "      <th>4</th>\n",
       "      <td>-1.500825</td>\n",
       "      <td>1.400058</td>\n",
       "    </tr>\n",
       "  </tbody>\n",
       "</table>\n",
       "</div>"
      ],
      "text/plain": [
       "        PC1       PC2\n",
       "0  0.368705  0.002690\n",
       "1  2.523050  0.383670\n",
       "2 -0.840246 -0.512775\n",
       "3 -0.550683 -1.273644\n",
       "4 -1.500825  1.400058"
      ]
     },
     "execution_count": 50,
     "metadata": {},
     "output_type": "execute_result"
    }
   ],
   "source": [
    "pca_df"
   ]
  },
  {
   "cell_type": "code",
   "execution_count": 51,
   "id": "91bf0387-30ed-49b6-9c26-eac75fcd1962",
   "metadata": {},
   "outputs": [
    {
     "data": {
      "image/png": "[encoded data removed]",
      "text/plain": [
       "<Figure size 1000x700 with 1 Axes>"
      ]
     },
     "metadata": {},
     "output_type": "display_data"
    }
   ],
   "source": [
    "plt.figure(figsize=(10, 7))\n",
    "plt.scatter(pca_df['PC1'], pca_df['PC2'])\n",
    "plt.xlabel('Principal Component 1')\n",
    "plt.ylabel('Principal Component 2')\n",
    "plt.title('PCA of Stock Prices')\n",
    "plt.show()"
   ]
  },
  {
   "cell_type": "markdown",
   "id": "ba21002b-95ab-4d8b-890a-437a984f73a1",
   "metadata": {},
   "source": [
    "## "
   ]
  },
  {
   "cell_type": "markdown",
   "id": "f4452020-cc54-4ef2-a03f-dd2b86c66a44",
   "metadata": {},
   "source": [
    "## Q7. For a dataset containing the following values: [1, 5, 10, 15, 20], perform Min-Max scaling to transform the values to a range of -1 to 1."
   ]
  },
  {
   "cell_type": "markdown",
   "id": "fd09cb03-40a4-481b-ae1c-17a8e2e9064e",
   "metadata": {},
   "source": [
    "## Answer "
   ]
  },
  {
   "cell_type": "code",
   "execution_count": 55,
   "id": "307f6ea7-418f-4e66-a27b-214316e29059",
   "metadata": {},
   "outputs": [],
   "source": [
    "df = pd.DataFrame({\n",
    "    \"column\" : [1,5,10,15,20]\n",
    "})"
   ]
  },
  {
   "cell_type": "code",
   "execution_count": 54,
   "id": "67a6964b-9e39-49c9-8060-8cc2ac6082e0",
   "metadata": {},
   "outputs": [],
   "source": [
    "instance = MinMaxScaler(feature_range=(-1,1))"
   ]
  },
  {
   "cell_type": "code",
   "execution_count": 56,
   "id": "4d878738-771d-47c0-b794-5b0cb83e1ea2",
   "metadata": {},
   "outputs": [
    {
     "data": {
      "text/plain": [
       "array([[-1.        ],\n",
       "       [-0.57894737],\n",
       "       [-0.05263158],\n",
       "       [ 0.47368421],\n",
       "       [ 1.        ]])"
      ]
     },
     "execution_count": 56,
     "metadata": {},
     "output_type": "execute_result"
    }
   ],
   "source": [
    "instance.fit_transform(df[[\"column\"]])"
   ]
  },
  {
   "cell_type": "markdown",
   "id": "d0580d7a-3f9f-4072-9888-018f50859750",
   "metadata": {},
   "source": [
    "## "
   ]
  },
  {
   "cell_type": "markdown",
   "id": "091962c4-618f-4055-9c75-ce1f7111591c",
   "metadata": {},
   "source": [
    "## Q8. For a dataset containing the following features: [height, weight, age, gender, blood pressure], perform Feature Extraction using PCA. How many principal components would you choose to retain, and why?"
   ]
  },
  {
   "cell_type": "markdown",
   "id": "42561a8e-e31d-40a9-bd9f-aa13b3e8810b",
   "metadata": {},
   "source": [
    "## Answer "
   ]
  },
  {
   "cell_type": "code",
   "execution_count": 61,
   "id": "5ca77694-58b3-4602-997a-db3387aff337",
   "metadata": {},
   "outputs": [],
   "source": [
    "df = pd.DataFrame({\n",
    "    'height': [170, 165, 180, 175, 160],\n",
    "    'weight': [70, 60, 80, 75, 55],\n",
    "    'age': [25, 30, 35, 40, 45],\n",
    "    'gender': ['M', 'F', 'M', 'F', 'M'],\n",
    "    'blood_pressure': [120, 110, 130, 125, 115]\n",
    "})"
   ]
  },
  {
   "cell_type": "code",
   "execution_count": 62,
   "id": "d5666ab8-5fe1-45a8-a1f6-eea1fe395ebd",
   "metadata": {},
   "outputs": [],
   "source": [
    "df[\"gender\"] = df[\"gender\"].map({\"M\" : 1, \"F\" : 0})"
   ]
  },
  {
   "cell_type": "code",
   "execution_count": 63,
   "id": "a277dab1-8f89-47c1-ac52-9e21ee068adb",
   "metadata": {},
   "outputs": [
    {
     "data": {
      "text/html": [
       "<div>\n",
       "<style scoped>\n",
       "    .dataframe tbody tr th:only-of-type {\n",
       "        vertical-align: middle;\n",
       "    }\n",
       "\n",
       "    .dataframe tbody tr th {\n",
       "        vertical-align: top;\n",
       "    }\n",
       "\n",
       "    .dataframe thead th {\n",
       "        text-align: right;\n",
       "    }\n",
       "</style>\n",
       "<table border=\"1\" class=\"dataframe\">\n",
       "  <thead>\n",
       "    <tr style=\"text-align: right;\">\n",
       "      <th></th>\n",
       "      <th>height</th>\n",
       "      <th>weight</th>\n",
       "      <th>age</th>\n",
       "      <th>gender</th>\n",
       "      <th>blood_pressure</th>\n",
       "    </tr>\n",
       "  </thead>\n",
       "  <tbody>\n",
       "    <tr>\n",
       "      <th>0</th>\n",
       "      <td>170</td>\n",
       "      <td>70</td>\n",
       "      <td>25</td>\n",
       "      <td>1</td>\n",
       "      <td>120</td>\n",
       "    </tr>\n",
       "    <tr>\n",
       "      <th>1</th>\n",
       "      <td>165</td>\n",
       "      <td>60</td>\n",
       "      <td>30</td>\n",
       "      <td>0</td>\n",
       "      <td>110</td>\n",
       "    </tr>\n",
       "    <tr>\n",
       "      <th>2</th>\n",
       "      <td>180</td>\n",
       "      <td>80</td>\n",
       "      <td>35</td>\n",
       "      <td>1</td>\n",
       "      <td>130</td>\n",
       "    </tr>\n",
       "    <tr>\n",
       "      <th>3</th>\n",
       "      <td>175</td>\n",
       "      <td>75</td>\n",
       "      <td>40</td>\n",
       "      <td>0</td>\n",
       "      <td>125</td>\n",
       "    </tr>\n",
       "    <tr>\n",
       "      <th>4</th>\n",
       "      <td>160</td>\n",
       "      <td>55</td>\n",
       "      <td>45</td>\n",
       "      <td>1</td>\n",
       "      <td>115</td>\n",
       "    </tr>\n",
       "  </tbody>\n",
       "</table>\n",
       "</div>"
      ],
      "text/plain": [
       "   height  weight  age  gender  blood_pressure\n",
       "0     170      70   25       1             120\n",
       "1     165      60   30       0             110\n",
       "2     180      80   35       1             130\n",
       "3     175      75   40       0             125\n",
       "4     160      55   45       1             115"
      ]
     },
     "execution_count": 63,
     "metadata": {},
     "output_type": "execute_result"
    }
   ],
   "source": [
    "df"
   ]
  },
  {
   "cell_type": "code",
   "execution_count": 65,
   "id": "ef3a9866-75b0-4fc5-9169-ff69841bcd05",
   "metadata": {},
   "outputs": [],
   "source": [
    "scaler = StandardScaler()\n",
    "scaled = scaler.fit_transform(df)"
   ]
  },
  {
   "cell_type": "code",
   "execution_count": 66,
   "id": "57ae2b5f-af38-4270-80e7-351587977c62",
   "metadata": {},
   "outputs": [
    {
     "data": {
      "text/plain": [
       "array([[ 0.        ,  0.21566555, -1.41421356,  0.81649658,  0.        ],\n",
       "       [-0.70710678, -0.86266219, -0.70710678, -1.22474487, -1.41421356],\n",
       "       [ 1.41421356,  1.29399328,  0.        ,  0.81649658,  1.41421356],\n",
       "       [ 0.70710678,  0.75482941,  0.70710678, -1.22474487,  0.70710678],\n",
       "       [-1.41421356, -1.40182605,  1.41421356,  0.81649658, -0.70710678]])"
      ]
     },
     "execution_count": 66,
     "metadata": {},
     "output_type": "execute_result"
    }
   ],
   "source": [
    "scaled"
   ]
  },
  {
   "cell_type": "markdown",
   "id": "21e48380-7309-4c82-af6b-a68d23ef8f16",
   "metadata": {},
   "source": [
    "## Apply PCA"
   ]
  },
  {
   "cell_type": "code",
   "execution_count": 68,
   "id": "f41961aa-9470-42ce-88c4-5fd29e114537",
   "metadata": {},
   "outputs": [
    {
     "data": {
      "text/plain": [
       "array([[ 3.47290296e-01, -4.94864676e-01, -1.52643512e+00,\n",
       "        -1.32938093e-01,  1.14119836e-17],\n",
       "       [-1.74669765e+00, -1.46430895e+00,  1.89180407e-01,\n",
       "         1.15080069e-01,  1.14119836e-17],\n",
       "       [ 2.43504106e+00,  5.67000899e-01, -2.62134620e-01,\n",
       "         1.46477720e-01,  1.14119836e-17],\n",
       "       [ 1.04924790e+00, -2.75674145e-01,  1.54218357e+00,\n",
       "        -1.20498500e-01,  1.14119836e-17],\n",
       "       [-2.08488160e+00,  1.66784687e+00,  5.72057588e-02,\n",
       "        -8.12119590e-03,  1.14119836e-17]])"
      ]
     },
     "execution_count": 68,
     "metadata": {},
     "output_type": "execute_result"
    }
   ],
   "source": [
    "pca = PCA()\n",
    "pca.fit_transform(scaled)"
   ]
  },
  {
   "cell_type": "code",
   "execution_count": 74,
   "id": "47bb17f5-2789-4363-a5dd-76c62f1ffc46",
   "metadata": {},
   "outputs": [
    {
     "data": {
      "text/plain": [
       "array([5.81945627e-01, 2.22731648e-01, 1.92644424e-01, 2.67830094e-03,\n",
       "       2.60466738e-35])"
      ]
     },
     "execution_count": 74,
     "metadata": {},
     "output_type": "execute_result"
    }
   ],
   "source": [
    "explained_variance = pca.explained_variance_ratio_\n",
    "explained_variance"
   ]
  },
  {
   "cell_type": "markdown",
   "id": "dd04d5a7-9b67-473b-889b-9034645f6b1e",
   "metadata": {},
   "source": [
    "## I'll retain the first 3 Priciple components because they are containing the 90% variance or most significant portion of the variance."
   ]
  }
 ],
 "metadata": {
  "kernelspec": {
   "display_name": "Python 3 (ipykernel)",
   "language": "python",
   "name": "python3"
  },
  "language_info": {
   "codemirror_mode": {
    "name": "ipython",
    "version": 3
   },
   "file_extension": ".py",
   "mimetype": "text/x-python",
   "name": "python",
   "nbconvert_exporter": "python",
   "pygments_lexer": "ipython3",
   "version": "3.12.2"
  }
 },
 "nbformat": 4,
 "nbformat_minor": 5
}
