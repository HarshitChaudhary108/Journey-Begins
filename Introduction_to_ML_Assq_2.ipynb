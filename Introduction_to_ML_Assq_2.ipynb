{
 "cells": [
  {
   "cell_type": "markdown",
   "id": "0328840d-336a-4eb9-8ddc-7a70d8648b96",
   "metadata": {},
   "source": [
    "## Q1: Define overfitting and underfitting in machine learning. What are the consequences of each, and how can they be mitigated?\n",
    "## Answer"
   ]
  },
  {
   "cell_type": "markdown",
   "id": "e1048c0a-b618-4487-949a-98bc8e13bb32",
   "metadata": {},
   "source": [
    "## Overfitting:\n",
    "### Definition: \n",
    "#### Overfitting occurs when a model learns the training data too well, capturing not only the underlying pattern but also the noise or random fluctuations present in the data.\n",
    "### Consequences:\n",
    "#### The model performs exceptionally well on the training data but poorly on unseen test data.\n",
    "#### It lacks generalization ability, making it unsuitable for real-world predictions.\n",
    "### Mitigation Techniques:\n",
    "#### Regularization\n",
    "#### Cross-validation\n",
    "#### Feature Selection\n",
    "#### More Data\n",
    "#### Simpler Modelsers"
   ]
  },
  {
   "cell_type": "markdown",
   "id": "9a83e5ef-2c7f-4915-a081-675c925212de",
   "metadata": {},
   "source": [
    "## Underfitting:\n",
    "### Definition: \n",
    "#### Underfitting occurs when a model is too simple to capture the complexities in the data. It fails to learn the training data effectively.\n",
    "### Consequences:\n",
    "#### Poor performance on both training and test data.\n",
    "#### Inaccurate predictions, especially on unseen examples.\n",
    "### Mitigation Techniques :\n",
    "#### Increase Model Complexity\n",
    "#### Feature Engineering"
   ]
  },
  {
   "cell_type": "markdown",
   "id": "29243501-56bb-43e6-bc4f-fc7bb75bc041",
   "metadata": {},
   "source": [
    "## "
   ]
  },
  {
   "cell_type": "markdown",
   "id": "efc1b8c3-5b91-4680-9e47-97aa420245f5",
   "metadata": {},
   "source": [
    "## Q2: How can we reduce overfitting? Explain in brief.\n",
    "## Answer "
   ]
  },
  {
   "cell_type": "markdown",
   "id": "aced1979-4751-4541-9f52-4a31771e67d5",
   "metadata": {},
   "source": [
    "#### Cross-validation: Use techniques like k-fold cross-validation to assess model performance on different subsets of data.\n",
    "#### Train with More Data: Gathering more information helps algorithms detect the underlying signal better.\n",
    "#### Feature Selection: Remove irrelevant or redundant features.\n",
    "#### Early Stopping: Stop training when performance on validation data starts to degrade.\n",
    "#### Regularization: Introduce penalties (e.g., L1 or L2 regularization) to prevent fitting noise.\n",
    "#### Ensembling: Combine multiple models to improve generalization"
   ]
  },
  {
   "cell_type": "markdown",
   "id": "47d3be84-e06f-48e2-947f-dae685db62f2",
   "metadata": {},
   "source": [
    "## "
   ]
  },
  {
   "cell_type": "markdown",
   "id": "15734dec-8aa5-4d16-b422-ea3391b97975",
   "metadata": {},
   "source": [
    "## Q3: Explain underfitting. List scenarios where underfitting can occur in ML."
   ]
  },
  {
   "cell_type": "markdown",
   "id": "4c8b6364-602b-4139-9998-3d1ceef18e44",
   "metadata": {},
   "source": [
    "## Answer "
   ]
  },
  {
   "cell_type": "markdown",
   "id": "87829144-644e-4ec7-b59d-01d29b96ba63",
   "metadata": {},
   "source": [
    "### Imagine a student who barely studies and doesn’t grasp the material. They perform poorly on both practice questions and the actual exam.\n",
    "#### (When the accuracy of the model is very low in both training dataset and test dataset)\n",
    "###\n",
    "### Scenarios :\n",
    "#### Simplistic Model: If you use an overly simple model with simplistic assumptions, it may not be capable of representing the complexities present in the data.\n",
    "#### Inadequate Features: When the input features used to train the model do not adequately represent the underlying factors influencing the target variable, the model may underfit.\n",
    "#### Small Training Dataset: If the size of the training dataset is insufficient, the model might not learn the underlying patterns effectively, resulting in poor performance."
   ]
  },
  {
   "cell_type": "markdown",
   "id": "486356bf-7173-41d1-8ce9-07d788267bd6",
   "metadata": {},
   "source": [
    "## "
   ]
  },
  {
   "cell_type": "markdown",
   "id": "7574acbf-8ed7-4047-b05f-d3865222b807",
   "metadata": {},
   "source": [
    "## Q4: Explain the bias-variance tradeoff in machine learning. What is the relationship between bias and variance, and how do they affect model performance? "
   ]
  },
  {
   "cell_type": "markdown",
   "id": "c411f65a-0258-45a6-855f-26c63d95ae5e",
   "metadata": {},
   "source": [
    "## Answer "
   ]
  },
  {
   "cell_type": "markdown",
   "id": "5be90aa7-6bb9-4f9d-9475-0144ab5a5156",
   "metadata": {},
   "source": [
    "### BIAS\n",
    "#### Bias refers to the difference between a model’s predictions and the actual values. A high bias means the model is too simplistic and doesn’t capture the underlying patterns in the data.\n",
    "#### Underfitting occurs when bias is too high. The model is too rigid and fails to learn from the training data effectively.\n",
    "#\n",
    "### VARIANCE\n",
    "#### Variance measures the variability of model predictions for a given data point. High variance models are overly complex and fit the training data too closely\n",
    "#### Overfitting happens when variance is too high. The model performs well on training data but poorly on unseen data."
   ]
  },
  {
   "cell_type": "markdown",
   "id": "ef7eb71d-6546-4aa2-b764-6a86ff80bf42",
   "metadata": {},
   "source": [
    "### RELATIONSHIP BETWEEN BIAS & VARIANCE\n",
    "#### High bias occurs when a model is too simplistic and fails to capture underlying patterns in the data.\n",
    "#### It leads to underfitting, where the model performs poorly on both training and unseen data.\n",
    "#### Imagine fitting a straight line to a complex curve – that’s high bias.\n",
    "#\n",
    "#### High variance results from overly complex models that fit the training data too closely.\n",
    "#### It leads to overfitting, where the model performs well on training data but poorly on new data.\n",
    "#### Think of a wiggly curve that fits training data perfectly but doesn’t generalize – that’s high variance."
   ]
  },
  {
   "cell_type": "markdown",
   "id": "16dae438-af83-4d55-ad1d-cc5e92e08075",
   "metadata": {},
   "source": [
    "## "
   ]
  },
  {
   "cell_type": "markdown",
   "id": "2ff609b5-4a3f-4c2f-a314-8659feca1591",
   "metadata": {},
   "source": [
    "## Q5: Discuss some common methods for detecting overfitting and underfitting in machine learning models. How can you determine whether your model is overfitting or underfitting?"
   ]
  },
  {
   "cell_type": "markdown",
   "id": "ae0caf3a-7cda-4539-b928-1ec0ca2b1b17",
   "metadata": {},
   "source": [
    "## Answer "
   ]
  },
  {
   "cell_type": "markdown",
   "id": "8550d016-6b6f-48bb-8265-e0520c49a876",
   "metadata": {},
   "source": [
    "### Overfitting:\n",
    "#### Training vs. Testing Performance: Evaluate your model on both the training dataset and a separate holdout test dataset. If the model performs significantly better on the training data than on the test data, it may be overfitting1.\n",
    "#### Learning Curves: Plot the learning curves (training and validation performance) against the number of training samples. Overfitting is indicated if the training error decreases while the validation error increases.\n",
    "#### Regularization: Apply techniques like L1 or L2 regularization to penalize large model coefficients and prevent overfitting.\n",
    "#### Cross-Validation: Use k-fold cross-validation to assess model performance across different subsets of the data."
   ]
  },
  {
   "cell_type": "markdown",
   "id": "cf2f4d06-12ec-4515-bc6b-0f2086b1198f",
   "metadata": {},
   "source": [
    "### Underfitting:\n",
    "#### Low Training Accuracy: If your model shows poor accuracy during training, it might be underfitting.\n",
    "#### Simpler Models: Consider using simpler models or increasing model complexity (e.g., adding more features or layers) to address underfitting.\n",
    "#### Feature Engineering: Improve feature representation by adding relevant features or transforming existing ones."
   ]
  },
  {
   "cell_type": "markdown",
   "id": "2ef6890d-3270-4a2f-88be-3aa7e6d8c2c8",
   "metadata": {},
   "source": [
    "## "
   ]
  },
  {
   "cell_type": "markdown",
   "id": "3734c69a-7eff-46c6-84b3-594d0219ee1e",
   "metadata": {},
   "source": [
    "## Q6: Compare and contrast bias and variance in machine learning. What are some examples of high bias and high variance models, and how do they differ in terms of their performance?"
   ]
  },
  {
   "cell_type": "markdown",
   "id": "27e070db-f677-46a7-9f69-ecf7a3cb4256",
   "metadata": {},
   "source": [
    "## Answer "
   ]
  },
  {
   "cell_type": "markdown",
   "id": "298cd353-0897-4aca-85f5-0d7f31988e1a",
   "metadata": {},
   "source": [
    "## Bias:\n",
    "#### Definition: Bias arises from incorrect assumptions about the data. It occurs when a model simplifies the target function, leading to differences between predicted and actual values.\n",
    "#### Low Bias: A model with low bias closely fits the training data but may struggle with unseen examples. It’s like memorizing the training set.\n",
    "#### High Bias: A model with high bias makes strong assumptions and fails to capture underlying patterns. It’s an underfitting model with a high error rate.\n",
    "#### Example: Linear regression assuming a linear relationship for non-linear data."
   ]
  },
  {
   "cell_type": "markdown",
   "id": "7fefb64b-7a74-4d6d-8776-51fae0134076",
   "metadata": {},
   "source": [
    "## Variance:\n",
    "#### Definition: Variance results from sensitivity to variations in training data. It reflects how much the model’s predictions change with different datasets.\n",
    "#### Low Variance: A model with low variance generalizes well but may not fit the training data perfectly. It’s robust against noise.\n",
    "#### High Variance: A model with high variance is overly sensitive to training data, capturing noise. It’s an overfitting model.\n",
    "#### Example: A complex neural network fitting the training data too closely."
   ]
  },
  {
   "cell_type": "markdown",
   "id": "5fd94052-150d-42a8-968f-900364d2dc80",
   "metadata": {},
   "source": [
    "## "
   ]
  },
  {
   "cell_type": "markdown",
   "id": "63f80343-bc4f-4560-8a98-483576933d12",
   "metadata": {},
   "source": [
    "## Q7: What is regularization in machine learning, and how can it be used to prevent overfitting? Describe some common regularization techniques and how they work."
   ]
  },
  {
   "cell_type": "markdown",
   "id": "4b28dd20-5451-42f4-bad6-be7929fd71cf",
   "metadata": {},
   "source": [
    "## Answer "
   ]
  },
  {
   "cell_type": "markdown",
   "id": "2a57a897-51ba-401b-9371-cfd0bce8c79a",
   "metadata": {},
   "source": [
    "#### Regularization is a technique used to prevent overfitting by adding a penalty term to the loss function. It discourages models from assigning too much importance to individual features or coefficients."
   ]
  },
  {
   "cell_type": "markdown",
   "id": "9a1c5144-acfb-4b8f-a533-121cb05788b1",
   "metadata": {},
   "source": [
    "### Prevent Overfitting :\n",
    "#### Complexity Control: Regularization helps control model complexity, leading to better generalization on new data.\n",
    "#### Preventing Overfitting: It prevents models from memorizing training data and encourages learning underlying patterns.\n",
    "#### Balancing Bias and Variance: Regularization strikes a balance between model bias (underfitting) and variance (overfitting).\n",
    "#### Feature Selection: Some methods promote sparse solutions, automatically selecting important features.\n",
    "#### Handling Multicollinearity: It stabilizes models when features are highly correlated."
   ]
  },
  {
   "cell_type": "markdown",
   "id": "db3a6c50-e037-4777-9dbe-1b5562c4877d",
   "metadata": {},
   "source": [
    "### Common Regularization Techniques:\n",
    "### - L1 Regularization (Lasso):\n",
    "#### How It Works: Adds the absolute sum of coefficients to the loss function.\n",
    "#### Effect: Drives some feature coefficients to zero, effectively selecting important features.\n",
    "### - L2 Regularization (Ridge):\n",
    "#### How It Works: Adds the squared sum of coefficients to the loss function.\n",
    "#### Effect: Penalizes large coefficients, encouraging smoother models.\n",
    "### - Elastic Net:\n",
    "#### Combines L1 and L2:\n",
    "#### How It Works: Combines L1 and L2 penalties.\n",
    "#### Effect: Balances feature selection and coefficient shrinkage."
   ]
  }
 ],
 "metadata": {
  "kernelspec": {
   "display_name": "Python 3 (ipykernel)",
   "language": "python",
   "name": "python3"
  },
  "language_info": {
   "codemirror_mode": {
    "name": "ipython",
    "version": 3
   },
   "file_extension": ".py",
   "mimetype": "text/x-python",
   "name": "python",
   "nbconvert_exporter": "python",
   "pygments_lexer": "ipython3",
   "version": "3.12.2"
  }
 },
 "nbformat": 4,
 "nbformat_minor": 5
}
