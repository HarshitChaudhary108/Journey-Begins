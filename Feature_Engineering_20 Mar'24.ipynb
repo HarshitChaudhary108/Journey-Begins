{
 "cells": [
  {
   "cell_type": "markdown",
   "id": "9b17f05d-b4bd-407c-9784-7a0800713a6c",
   "metadata": {},
   "source": [
    "## Q1. What is data encoding? How is it useful in data science?"
   ]
  },
  {
   "cell_type": "markdown",
   "id": "55b4b7fb-c6ca-4f03-b819-d35c98c4e449",
   "metadata": {},
   "source": [
    "## Answer "
   ]
  },
  {
   "cell_type": "markdown",
   "id": "4ca392ab-babf-4182-96f9-28737ec31afc",
   "metadata": {},
   "source": [
    "### Data encoding plays a crucial role in data science for converting the data from one form to another."
   ]
  },
  {
   "cell_type": "markdown",
   "id": "e7befd7a-fc65-4767-8096-e00c7f62e0db",
   "metadata": {},
   "source": [
    "## Data encoding is essential in data science because it helps:\n",
    "### Transforming data into a suitable format for algorithms.\n",
    "### Creating new variables that can improve model performance.\n",
    "### reducing data size withour losing essential information."
   ]
  },
  {
   "cell_type": "markdown",
   "id": "e1ead271-5c22-4574-bf68-c4689333243f",
   "metadata": {},
   "source": [
    "## "
   ]
  },
  {
   "cell_type": "markdown",
   "id": "8aa272c8-45c8-4753-838a-86529673637a",
   "metadata": {},
   "source": [
    "## Q2. What is nominal encoding? Provide an example of how you would use it in a real-world scenario."
   ]
  },
  {
   "cell_type": "markdown",
   "id": "8c1ff698-f82a-4c53-ae97-6579b5f18e3e",
   "metadata": {},
   "source": [
    "## Answer "
   ]
  },
  {
   "cell_type": "markdown",
   "id": "501e1e33-2891-4315-a4bb-c9628c2df465",
   "metadata": {},
   "source": [
    "## Nominal or ONE HOT ENCODING :\n",
    "### Converts categorical variables into numerical format. It is specifically for categories that do not have an inherent order. For example, a “color” variable with values “red,” “green,” and “blue” would be encoded as:\n",
    "#### Red: [1, 0, 0]\n",
    "#### Green: [0, 1, 0]\n",
    "#### Blue: [0, 0, 1] This technique is useful for algorithms that require numerical input."
   ]
  },
  {
   "cell_type": "markdown",
   "id": "fb91c944-0cf6-42b4-9837-a12b85ffb032",
   "metadata": {},
   "source": [
    "### Example of Nominal Encoding\n",
    "#### Let’s consider a real-world scenario where you are working on a customer segmentation project for an e-commerce platform. One of the features in your dataset is the “Preferred Payment Method” of customers, which includes categories like “Credit Card,” “Debit Card,” “PayPal,” and “Cash on Delivery.”"
   ]
  },
  {
   "cell_type": "code",
   "execution_count": 3,
   "id": "9b82ebf5-5e9e-4e88-87b3-cb644763b7ba",
   "metadata": {},
   "outputs": [],
   "source": [
    "import pandas as pd"
   ]
  },
  {
   "cell_type": "code",
   "execution_count": 11,
   "id": "999091b9-7c33-4c1d-b010-ea54b297db0d",
   "metadata": {},
   "outputs": [],
   "source": [
    "df = pd.DataFrame({\n",
    "    \"Customer Id\" : [\"01\",\"02\",\"03\",\"04\"],\n",
    "    \"Preferred payment mode\" : [\"Credit Card\", \"Debit Card\", \"PayPal\", \"Cash on Delivery\"]\n",
    "})"
   ]
  },
  {
   "cell_type": "code",
   "execution_count": 12,
   "id": "322cbffb-efed-4367-86ee-a31b872fc378",
   "metadata": {},
   "outputs": [],
   "source": [
    "from sklearn.preprocessing import OneHotEncoder"
   ]
  },
  {
   "cell_type": "code",
   "execution_count": 22,
   "id": "1a82a9aa-38f3-44b6-a3ba-8986f6b2e476",
   "metadata": {},
   "outputs": [],
   "source": [
    "encoder = OneHotEncoder()\n",
    "encoded = encoder.fit_transform(df[[\"Preferred payment mode\"]])"
   ]
  },
  {
   "cell_type": "code",
   "execution_count": 28,
   "id": "4616b191-f3aa-4a0b-b8b4-8236a584c773",
   "metadata": {},
   "outputs": [
    {
     "data": {
      "text/html": [
       "<div>\n",
       "<style scoped>\n",
       "    .dataframe tbody tr th:only-of-type {\n",
       "        vertical-align: middle;\n",
       "    }\n",
       "\n",
       "    .dataframe tbody tr th {\n",
       "        vertical-align: top;\n",
       "    }\n",
       "\n",
       "    .dataframe thead th {\n",
       "        text-align: right;\n",
       "    }\n",
       "</style>\n",
       "<table border=\"1\" class=\"dataframe\">\n",
       "  <thead>\n",
       "    <tr style=\"text-align: right;\">\n",
       "      <th></th>\n",
       "      <th>Preferred payment mode_Cash on Delivery</th>\n",
       "      <th>Preferred payment mode_Credit Card</th>\n",
       "      <th>Preferred payment mode_Debit Card</th>\n",
       "      <th>Preferred payment mode_PayPal</th>\n",
       "    </tr>\n",
       "  </thead>\n",
       "  <tbody>\n",
       "    <tr>\n",
       "      <th>0</th>\n",
       "      <td>0.0</td>\n",
       "      <td>1.0</td>\n",
       "      <td>0.0</td>\n",
       "      <td>0.0</td>\n",
       "    </tr>\n",
       "    <tr>\n",
       "      <th>1</th>\n",
       "      <td>0.0</td>\n",
       "      <td>0.0</td>\n",
       "      <td>1.0</td>\n",
       "      <td>0.0</td>\n",
       "    </tr>\n",
       "    <tr>\n",
       "      <th>2</th>\n",
       "      <td>0.0</td>\n",
       "      <td>0.0</td>\n",
       "      <td>0.0</td>\n",
       "      <td>1.0</td>\n",
       "    </tr>\n",
       "    <tr>\n",
       "      <th>3</th>\n",
       "      <td>1.0</td>\n",
       "      <td>0.0</td>\n",
       "      <td>0.0</td>\n",
       "      <td>0.0</td>\n",
       "    </tr>\n",
       "  </tbody>\n",
       "</table>\n",
       "</div>"
      ],
      "text/plain": [
       "   Preferred payment mode_Cash on Delivery  \\\n",
       "0                                      0.0   \n",
       "1                                      0.0   \n",
       "2                                      0.0   \n",
       "3                                      1.0   \n",
       "\n",
       "   Preferred payment mode_Credit Card  Preferred payment mode_Debit Card  \\\n",
       "0                                 1.0                                0.0   \n",
       "1                                 0.0                                1.0   \n",
       "2                                 0.0                                0.0   \n",
       "3                                 0.0                                0.0   \n",
       "\n",
       "   Preferred payment mode_PayPal  \n",
       "0                            0.0  \n",
       "1                            0.0  \n",
       "2                            1.0  \n",
       "3                            0.0  "
      ]
     },
     "execution_count": 28,
     "metadata": {},
     "output_type": "execute_result"
    }
   ],
   "source": [
    "pd.DataFrame(encoded.toarray(), columns=encoder.get_feature_names_out())"
   ]
  },
  {
   "cell_type": "markdown",
   "id": "ce60fe18-3524-4993-bda7-84683390bedb",
   "metadata": {},
   "source": [
    "## "
   ]
  },
  {
   "cell_type": "markdown",
   "id": "c9e9caa3-6f81-48dd-97ca-c5bfc37d594d",
   "metadata": {},
   "source": [
    "##  Q3. In what situations is nominal encoding preferred over one-hot encoding? Provide a practical example."
   ]
  },
  {
   "cell_type": "markdown",
   "id": "a912f838-3df1-4149-9382-47941e17b96c",
   "metadata": {},
   "source": [
    "## Answer "
   ]
  },
  {
   "cell_type": "markdown",
   "id": "08e9ed0d-5a1d-4656-a1bc-a276f9095cfe",
   "metadata": {},
   "source": [
    "### Nominal encoding is preferred over one-hot encoding in situations where the number of unique categories is very large.\n",
    "### Practical Example\n",
    "#### Let’s consider a real-world scenario in the context of a customer feedback analysis for an online retail store. Suppose you have a feature called “Product Category” with hundreds of unique categories, such as “Electronics,” “Clothing,” “Home Appliances,” etc.\n",
    "### Using One-Hot Encoding:\n",
    "#### If you apply one-hot encoding to this feature, you would create hundreds of new binary columns, one for each unique category.\n",
    "### Using Nominal Encoding:\n",
    "#### Instead, you can use nominal encoding to assign a unique integer to each category. For example:\n",
    "#### Electronics: 0\n",
    "#### Clothing: 1\n",
    "#### Home Appliances: 2"
   ]
  },
  {
   "cell_type": "markdown",
   "id": "e2839222-d27c-441a-9bd5-d8b5b6b8d3b7",
   "metadata": {},
   "source": [
    "## "
   ]
  },
  {
   "cell_type": "markdown",
   "id": "4c851b81-07b0-4764-a639-b7bec200641d",
   "metadata": {},
   "source": [
    "##  Q4. Suppose you have a dataset containing categorical data with 5 unique values. Which encoding technique would you use to transform this data into a format suitable for machine learning algorithms? Explain why you made this choice."
   ]
  },
  {
   "cell_type": "markdown",
   "id": "c859f750-5b74-4a2d-88e2-5ed7a391b678",
   "metadata": {},
   "source": [
    "## Answer "
   ]
  },
  {
   "cell_type": "markdown",
   "id": "923a5ac8-3399-4d26-a8de-dc0b1c0224f5",
   "metadata": {},
   "source": [
    "### I have 2 choices : Either nominal enoding or OHE, But i will use nominal Encoding because using OHE, It'll create a number of binary rows and columns. but using nominal encoding, it'll assign a particular numeric vaule to them which i personally feels so simple and good to save time in interpreting the dataset."
   ]
  },
  {
   "cell_type": "markdown",
   "id": "769f6608-7574-45cf-867a-9e81d027b535",
   "metadata": {},
   "source": [
    "## "
   ]
  },
  {
   "cell_type": "markdown",
   "id": "ead74b29-bfde-4741-aad1-d405a29ab398",
   "metadata": {},
   "source": [
    "##  Q5. In a machine learning project, you have a dataset with 1000 rows and 5 columns. Two of the columns are categorical, and the remaining three columns are numerical. If you were to use nominal encoding to transform the categorical data, how many new columns would be created? Show your calculations."
   ]
  },
  {
   "cell_type": "markdown",
   "id": "53696b5c-2d5c-47e9-bfcc-835f6c38b65d",
   "metadata": {},
   "source": [
    "## Answer "
   ]
  },
  {
   "cell_type": "markdown",
   "id": "ff2ea12f-48a0-40bd-8061-506fa6b2e53e",
   "metadata": {},
   "source": [
    "### When using nominal encoding, each categorical column is replaced by a single column with numerical values representing the categories. Therefore, the number of columns remains the same.\n",
    "###\n",
    "### Calculation:\n",
    "#### Original Columns: 5 (2 categorical + 3 numerical)\n",
    "#### Nominal Encoding: Each categorical column is replaced by 1 numerical column.\n",
    "### So, the total number of columns after nominal encoding remains 5."
   ]
  },
  {
   "cell_type": "markdown",
   "id": "9f9a787a-aed6-421c-be85-f9ebfbf08422",
   "metadata": {},
   "source": [
    "## "
   ]
  },
  {
   "cell_type": "markdown",
   "id": "5d297d79-8506-46f3-bcb2-d4bc0f7c254a",
   "metadata": {},
   "source": [
    "##  Q6. You are working with a dataset containing information about different types of animals, including their species, habitat, and diet. Which encoding technique would you use to transform the categorical data into a format suitable for machine learning algorithms? Justify your answer."
   ]
  },
  {
   "cell_type": "markdown",
   "id": "b821c570-7d6a-40c0-bb87-88b41ce098a5",
   "metadata": {},
   "source": [
    "## Answer "
   ]
  },
  {
   "cell_type": "markdown",
   "id": "16f23b89-5658-4822-ba93-ea1c8abcfa0b",
   "metadata": {},
   "source": [
    "### For a dataset containing information about different types of animals, including their species, habitat, and diet, I would recommend using one-hot encoding for the categorical data. Here’s why:\n",
    "#### Using techniques like label encoding could inadvertently introduce ordinal relationships, which might mislead the model.\n",
    "#### The categories like species, habitat, and diet do not have a natural order. One-hot encoding is ideal for such nominal data as it does not impose any ordinal relationship.\n",
    "#### Many machine learning algorithms, such as linear regression, logistic regression, and neural networks, perform better with one-hot encoded data as it allows them to treat each category independently."
   ]
  },
  {
   "cell_type": "markdown",
   "id": "97d615f5-a942-49fe-aaba-13bd28b7403d",
   "metadata": {},
   "source": [
    "## "
   ]
  },
  {
   "cell_type": "markdown",
   "id": "3e659e17-53ab-4931-9d61-f23d0e85dd9e",
   "metadata": {},
   "source": [
    "## Q7.You are working on a project that involves predicting customer churn for a telecommunications company. You have a dataset with 5 features, including the customer's gender, age, contract type, monthly charges, and tenure. Which encoding technique(s) would you use to transform the categorical .data into numerical data? Provide a step-by-step explanation of how you would implement the encoding"
   ]
  },
  {
   "cell_type": "markdown",
   "id": "fca9b82a-ef4e-4aff-b76d-d5788ef7c5ef",
   "metadata": {},
   "source": [
    "## Answer "
   ]
  },
  {
   "cell_type": "markdown",
   "id": "aa57d94a-92f4-4e36-9257-acab2c234887",
   "metadata": {},
   "source": [
    "### I would use one-hot encoding for the categorical features."
   ]
  },
  {
   "cell_type": "code",
   "execution_count": 32,
   "id": "d8b117c6-1240-4318-b7ec-63ff6971c9f3",
   "metadata": {},
   "outputs": [],
   "source": [
    "## 1st step\n",
    "from sklearn.preprocessing import OneHotEncoder"
   ]
  },
  {
   "cell_type": "code",
   "execution_count": 33,
   "id": "332a1d33-901c-4291-b881-54835b3664c3",
   "metadata": {},
   "outputs": [],
   "source": [
    "## 2nd Step : creating an instance\n",
    "encoder = OneHotEncoder()"
   ]
  },
  {
   "cell_type": "code",
   "execution_count": null,
   "id": "78ba1af7-7779-4b15-a168-f16d1b6f71ad",
   "metadata": {},
   "outputs": [],
   "source": [
    "## 3rd Step\n",
    "encoded = encoder.fit_transform(df[[\"gender\", \"contract_type\"]]) "
   ]
  }
 ],
 "metadata": {
  "kernelspec": {
   "display_name": "Python 3 (ipykernel)",
   "language": "python",
   "name": "python3"
  },
  "language_info": {
   "codemirror_mode": {
    "name": "ipython",
    "version": 3
   },
   "file_extension": ".py",
   "mimetype": "text/x-python",
   "name": "python",
   "nbconvert_exporter": "python",
   "pygments_lexer": "ipython3",
   "version": "3.12.2"
  }
 },
 "nbformat": 4,
 "nbformat_minor": 5
}
