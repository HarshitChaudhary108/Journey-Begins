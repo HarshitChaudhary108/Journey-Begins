{
 "cells": [
  {
   "cell_type": "markdown",
   "id": "6a0b61d5-f784-46fb-a5f0-a0f3eda89faf",
   "metadata": {},
   "source": [
    "##  Q1. What is Gradient Boosting Regression?\n",
    "## Answer "
   ]
  },
  {
   "cell_type": "markdown",
   "id": "0427a209-165c-4844-baaf-d0307ccff3e9",
   "metadata": {},
   "source": [
    "#### Gradient boosting is a type of Boosting Algorithm, the work and role is in the name, this algorithm creates a generalized model by reducing the residual error one and after each Decision Tree. It uses n number of Decision tree to reduce the residual error and obtain a high accuracy model."
   ]
  },
  {
   "cell_type": "markdown",
   "id": "c7da32c1-45e0-4181-be43-5aafbd88f9cb",
   "metadata": {},
   "source": [
    "## "
   ]
  },
  {
   "cell_type": "markdown",
   "id": "db686be4-887f-4aaa-aae3-3b579e8b97cb",
   "metadata": {},
   "source": [
    "##  Q2. Implement a simple gradient boosting algorithm from scratch using Python and NumPy. Use a simple regression problem as an example and train the model on a small dataset. Evaluate the model's performance using metrics such as mean squared error and R-squared."
   ]
  },
  {
   "cell_type": "markdown",
   "id": "a94de143-b85c-4bbe-b990-30728f0a5a9f",
   "metadata": {},
   "source": [
    "## Answer "
   ]
  },
  {
   "cell_type": "code",
   "execution_count": 5,
   "id": "2568144b-fb89-41f0-9e23-d0853b8f8cf0",
   "metadata": {},
   "outputs": [],
   "source": [
    "import numpy as np\n",
    "from sklearn.ensemble import GradientBoostingRegressor\n",
    "from sklearn import metrics\n",
    "from sklearn.model_selection import train_test_split"
   ]
  },
  {
   "cell_type": "code",
   "execution_count": null,
   "id": "52fd2bf7-9931-4491-b5d9-b8260aea8180",
   "metadata": {},
   "outputs": [],
   "source": []
  },
  {
   "cell_type": "code",
   "execution_count": null,
   "id": "ed23a445-e8f8-428f-ba3e-85ffb3fe117f",
   "metadata": {},
   "outputs": [],
   "source": []
  },
  {
   "cell_type": "code",
   "execution_count": null,
   "id": "71e38fca-01b0-4e2e-bea3-bdb29b11697e",
   "metadata": {},
   "outputs": [],
   "source": []
  },
  {
   "cell_type": "code",
   "execution_count": null,
   "id": "3b3e9de4-8913-42ae-bb97-9798b6c1eb9d",
   "metadata": {},
   "outputs": [],
   "source": []
  },
  {
   "cell_type": "code",
   "execution_count": null,
   "id": "a7a38a0c-4089-4293-a79c-7be14d075272",
   "metadata": {},
   "outputs": [],
   "source": []
  },
  {
   "cell_type": "code",
   "execution_count": null,
   "id": "c213a28e-ce59-4f5d-a97e-8b0b83c0a08c",
   "metadata": {},
   "outputs": [],
   "source": []
  },
  {
   "cell_type": "code",
   "execution_count": null,
   "id": "aaf05a4b-b063-446f-a390-05b203e9b843",
   "metadata": {},
   "outputs": [],
   "source": []
  },
  {
   "cell_type": "code",
   "execution_count": null,
   "id": "22c5485f-ba7a-423b-ab27-345aaf93ad24",
   "metadata": {},
   "outputs": [],
   "source": []
  },
  {
   "cell_type": "code",
   "execution_count": null,
   "id": "83065e5f-33c2-41fe-8e0d-77da5f302e64",
   "metadata": {},
   "outputs": [],
   "source": []
  },
  {
   "cell_type": "code",
   "execution_count": null,
   "id": "1a94bb5a-2718-4a81-915b-0f1183a719eb",
   "metadata": {},
   "outputs": [],
   "source": []
  },
  {
   "cell_type": "code",
   "execution_count": null,
   "id": "d0ed7742-5d9f-4a77-b483-de2cbecb6ea5",
   "metadata": {},
   "outputs": [],
   "source": []
  },
  {
   "cell_type": "code",
   "execution_count": null,
   "id": "5f66273e-4009-401e-b6da-8cc41c227053",
   "metadata": {},
   "outputs": [],
   "source": []
  },
  {
   "cell_type": "code",
   "execution_count": null,
   "id": "23209ef7-27dc-412f-8e80-02673f69d88d",
   "metadata": {},
   "outputs": [],
   "source": []
  },
  {
   "cell_type": "code",
   "execution_count": null,
   "id": "3d7e3f81-5709-45d3-b489-4254735dec95",
   "metadata": {},
   "outputs": [],
   "source": []
  },
  {
   "cell_type": "code",
   "execution_count": null,
   "id": "c4a4f09c-7fa4-40ad-a515-843604be6629",
   "metadata": {},
   "outputs": [],
   "source": []
  },
  {
   "cell_type": "code",
   "execution_count": null,
   "id": "6a379d40-d196-4816-a782-6fbd9d5e0310",
   "metadata": {},
   "outputs": [],
   "source": []
  },
  {
   "cell_type": "code",
   "execution_count": null,
   "id": "dc48b3c1-693e-4093-be5f-7010e2043e7b",
   "metadata": {},
   "outputs": [],
   "source": []
  },
  {
   "cell_type": "code",
   "execution_count": null,
   "id": "f4b97d0e-f223-4ee4-8994-749cb0b53f9e",
   "metadata": {},
   "outputs": [],
   "source": []
  },
  {
   "cell_type": "code",
   "execution_count": null,
   "id": "394e7ae1-e939-4d14-8813-8ef42610735b",
   "metadata": {},
   "outputs": [],
   "source": []
  },
  {
   "cell_type": "code",
   "execution_count": null,
   "id": "6d27974e-7c90-44e9-8960-281ce04030fe",
   "metadata": {},
   "outputs": [],
   "source": []
  },
  {
   "cell_type": "code",
   "execution_count": null,
   "id": "6491f4f0-2add-45b4-95fc-cf419b31f22a",
   "metadata": {},
   "outputs": [],
   "source": []
  },
  {
   "cell_type": "code",
   "execution_count": null,
   "id": "6a640488-18f6-4869-b484-f47a07acb4d3",
   "metadata": {},
   "outputs": [],
   "source": []
  },
  {
   "cell_type": "code",
   "execution_count": null,
   "id": "76c4afc2-7b2e-47fc-9348-cfb5af382c30",
   "metadata": {},
   "outputs": [],
   "source": []
  },
  {
   "cell_type": "code",
   "execution_count": null,
   "id": "211a91ef-059a-4708-899e-558afb6378cc",
   "metadata": {},
   "outputs": [],
   "source": []
  }
 ],
 "metadata": {
  "kernelspec": {
   "display_name": "Python 3 (ipykernel)",
   "language": "python",
   "name": "python3"
  },
  "language_info": {
   "codemirror_mode": {
    "name": "ipython",
    "version": 3
   },
   "file_extension": ".py",
   "mimetype": "text/x-python",
   "name": "python",
   "nbconvert_exporter": "python",
   "pygments_lexer": "ipython3",
   "version": "3.12.2"
  }
 },
 "nbformat": 4,
 "nbformat_minor": 5
}
